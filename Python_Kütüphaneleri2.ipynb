{
 "cells": [
  {
   "cell_type": "code",
   "execution_count": 1,
   "id": "01bab777-9194-4769-aa16-2ec0b7956b5a",
   "metadata": {},
   "outputs": [],
   "source": [
    "import pandas as pd\n",
    "import numpy as np"
   ]
  },
  {
   "cell_type": "code",
   "execution_count": 2,
   "id": "cbaa2532-b634-4029-bbc3-69365d3bfe5b",
   "metadata": {},
   "outputs": [],
   "source": [
    "Sozluk1 = {\"Isım\": [\"ahmet\",\"mehmet\",\"zeynep\",\"saadet\"],\n",
    "          \"Spor\": [\"koşu\",\"yüzme\",\"ağırlık\",\"tırmanış\"],\n",
    "          \"Kalori\": [100,200,300,400]}"
   ]
  },
  {
   "cell_type": "code",
   "execution_count": 3,
   "id": "1a4ea737-a263-46d6-a901-0ef5e57a72e4",
   "metadata": {},
   "outputs": [],
   "source": [
    "dataFrame = pd.DataFrame(Sozluk1,index = [0,1,2,3])"
   ]
  },
  {
   "cell_type": "code",
   "execution_count": 4,
   "id": "47733f80-ddf7-47e3-ad3a-a8fede1edc10",
   "metadata": {},
   "outputs": [
    {
     "data": {
      "text/html": [
       "<div>\n",
       "<style scoped>\n",
       "    .dataframe tbody tr th:only-of-type {\n",
       "        vertical-align: middle;\n",
       "    }\n",
       "\n",
       "    .dataframe tbody tr th {\n",
       "        vertical-align: top;\n",
       "    }\n",
       "\n",
       "    .dataframe thead th {\n",
       "        text-align: right;\n",
       "    }\n",
       "</style>\n",
       "<table border=\"1\" class=\"dataframe\">\n",
       "  <thead>\n",
       "    <tr style=\"text-align: right;\">\n",
       "      <th></th>\n",
       "      <th>Isım</th>\n",
       "      <th>Spor</th>\n",
       "      <th>Kalori</th>\n",
       "    </tr>\n",
       "  </thead>\n",
       "  <tbody>\n",
       "    <tr>\n",
       "      <th>0</th>\n",
       "      <td>ahmet</td>\n",
       "      <td>koşu</td>\n",
       "      <td>100</td>\n",
       "    </tr>\n",
       "    <tr>\n",
       "      <th>1</th>\n",
       "      <td>mehmet</td>\n",
       "      <td>yüzme</td>\n",
       "      <td>200</td>\n",
       "    </tr>\n",
       "    <tr>\n",
       "      <th>2</th>\n",
       "      <td>zeynep</td>\n",
       "      <td>ağırlık</td>\n",
       "      <td>300</td>\n",
       "    </tr>\n",
       "    <tr>\n",
       "      <th>3</th>\n",
       "      <td>saadet</td>\n",
       "      <td>tırmanış</td>\n",
       "      <td>400</td>\n",
       "    </tr>\n",
       "  </tbody>\n",
       "</table>\n",
       "</div>"
      ],
      "text/plain": [
       "     Isım      Spor  Kalori\n",
       "0   ahmet      koşu     100\n",
       "1  mehmet     yüzme     200\n",
       "2  zeynep   ağırlık     300\n",
       "3  saadet  tırmanış     400"
      ]
     },
     "execution_count": 4,
     "metadata": {},
     "output_type": "execute_result"
    }
   ],
   "source": [
    "dataFrame"
   ]
  },
  {
   "cell_type": "code",
   "execution_count": 11,
   "id": "9f4a2884-bfb1-4dc3-a7cb-7bb78ee2bef6",
   "metadata": {},
   "outputs": [],
   "source": [
    "Sozluk2 = {\"Isım\": [\"osman\",\"levent\",\"ayşe\",\"fatma\"],\n",
    "          \"Spor\": [\"koşu\",\"yüzme\",\"ağırlık\",\"tırmanış\"],\n",
    "          \"Kalori\": [120,240,390,420]}"
   ]
  },
  {
   "cell_type": "code",
   "execution_count": 12,
   "id": "b47a6f4a-51a6-4a8e-bcf8-868822688120",
   "metadata": {},
   "outputs": [],
   "source": [
    "dataFrame2 = pd.DataFrame(Sozluk2, index = [4,5,6,7])"
   ]
  },
  {
   "cell_type": "code",
   "execution_count": 13,
   "id": "a72fba9e-b8e9-446a-8de6-090fccb3ae10",
   "metadata": {},
   "outputs": [],
   "source": [
    "Sozluk3 = {\"Isım\": [\"özgür\",\"cansu\",\"leyla\",\"cemil\"],\n",
    "          \"Spor\": [\"koşu\",\"yüzme\",\"ağırlık\",\"tırmanış\"],\n",
    "          \"Kalori\": [170,249,490,620]}\n",
    "dataFrame3 = pd.DataFrame(Sozluk3, index = [8,9,10,11])"
   ]
  },
  {
   "cell_type": "code",
   "execution_count": 9,
   "id": "003a9a73-7a56-4fb1-a123-6d53551d6225",
   "metadata": {},
   "outputs": [
    {
     "data": {
      "text/html": [
       "<div>\n",
       "<style scoped>\n",
       "    .dataframe tbody tr th:only-of-type {\n",
       "        vertical-align: middle;\n",
       "    }\n",
       "\n",
       "    .dataframe tbody tr th {\n",
       "        vertical-align: top;\n",
       "    }\n",
       "\n",
       "    .dataframe thead th {\n",
       "        text-align: right;\n",
       "    }\n",
       "</style>\n",
       "<table border=\"1\" class=\"dataframe\">\n",
       "  <thead>\n",
       "    <tr style=\"text-align: right;\">\n",
       "      <th></th>\n",
       "      <th>Isım</th>\n",
       "      <th>Spor</th>\n",
       "      <th>Kalori</th>\n",
       "    </tr>\n",
       "  </thead>\n",
       "  <tbody>\n",
       "    <tr>\n",
       "      <th>0</th>\n",
       "      <td>ahmet</td>\n",
       "      <td>koşu</td>\n",
       "      <td>100</td>\n",
       "    </tr>\n",
       "    <tr>\n",
       "      <th>1</th>\n",
       "      <td>mehmet</td>\n",
       "      <td>yüzme</td>\n",
       "      <td>200</td>\n",
       "    </tr>\n",
       "    <tr>\n",
       "      <th>2</th>\n",
       "      <td>zeynep</td>\n",
       "      <td>ağırlık</td>\n",
       "      <td>300</td>\n",
       "    </tr>\n",
       "    <tr>\n",
       "      <th>3</th>\n",
       "      <td>saadet</td>\n",
       "      <td>tırmanış</td>\n",
       "      <td>400</td>\n",
       "    </tr>\n",
       "  </tbody>\n",
       "</table>\n",
       "</div>"
      ],
      "text/plain": [
       "     Isım      Spor  Kalori\n",
       "0   ahmet      koşu     100\n",
       "1  mehmet     yüzme     200\n",
       "2  zeynep   ağırlık     300\n",
       "3  saadet  tırmanış     400"
      ]
     },
     "execution_count": 9,
     "metadata": {},
     "output_type": "execute_result"
    }
   ],
   "source": [
    "dataFrame"
   ]
  },
  {
   "cell_type": "code",
   "execution_count": 14,
   "id": "21b1b1bc-09f9-4325-bf8c-927ca74a6ead",
   "metadata": {},
   "outputs": [
    {
     "data": {
      "text/html": [
       "<div>\n",
       "<style scoped>\n",
       "    .dataframe tbody tr th:only-of-type {\n",
       "        vertical-align: middle;\n",
       "    }\n",
       "\n",
       "    .dataframe tbody tr th {\n",
       "        vertical-align: top;\n",
       "    }\n",
       "\n",
       "    .dataframe thead th {\n",
       "        text-align: right;\n",
       "    }\n",
       "</style>\n",
       "<table border=\"1\" class=\"dataframe\">\n",
       "  <thead>\n",
       "    <tr style=\"text-align: right;\">\n",
       "      <th></th>\n",
       "      <th>Isım</th>\n",
       "      <th>Spor</th>\n",
       "      <th>Kalori</th>\n",
       "    </tr>\n",
       "  </thead>\n",
       "  <tbody>\n",
       "    <tr>\n",
       "      <th>4</th>\n",
       "      <td>osman</td>\n",
       "      <td>koşu</td>\n",
       "      <td>120</td>\n",
       "    </tr>\n",
       "    <tr>\n",
       "      <th>5</th>\n",
       "      <td>levent</td>\n",
       "      <td>yüzme</td>\n",
       "      <td>240</td>\n",
       "    </tr>\n",
       "    <tr>\n",
       "      <th>6</th>\n",
       "      <td>ayşe</td>\n",
       "      <td>ağırlık</td>\n",
       "      <td>390</td>\n",
       "    </tr>\n",
       "    <tr>\n",
       "      <th>7</th>\n",
       "      <td>fatma</td>\n",
       "      <td>tırmanış</td>\n",
       "      <td>420</td>\n",
       "    </tr>\n",
       "  </tbody>\n",
       "</table>\n",
       "</div>"
      ],
      "text/plain": [
       "     Isım      Spor  Kalori\n",
       "4   osman      koşu     120\n",
       "5  levent     yüzme     240\n",
       "6    ayşe   ağırlık     390\n",
       "7   fatma  tırmanış     420"
      ]
     },
     "execution_count": 14,
     "metadata": {},
     "output_type": "execute_result"
    }
   ],
   "source": [
    "dataFrame2"
   ]
  },
  {
   "cell_type": "code",
   "execution_count": 15,
   "id": "ade7de16-c621-44e1-8297-80363522e152",
   "metadata": {},
   "outputs": [
    {
     "data": {
      "text/html": [
       "<div>\n",
       "<style scoped>\n",
       "    .dataframe tbody tr th:only-of-type {\n",
       "        vertical-align: middle;\n",
       "    }\n",
       "\n",
       "    .dataframe tbody tr th {\n",
       "        vertical-align: top;\n",
       "    }\n",
       "\n",
       "    .dataframe thead th {\n",
       "        text-align: right;\n",
       "    }\n",
       "</style>\n",
       "<table border=\"1\" class=\"dataframe\">\n",
       "  <thead>\n",
       "    <tr style=\"text-align: right;\">\n",
       "      <th></th>\n",
       "      <th>Isım</th>\n",
       "      <th>Spor</th>\n",
       "      <th>Kalori</th>\n",
       "    </tr>\n",
       "  </thead>\n",
       "  <tbody>\n",
       "    <tr>\n",
       "      <th>8</th>\n",
       "      <td>özgür</td>\n",
       "      <td>koşu</td>\n",
       "      <td>170</td>\n",
       "    </tr>\n",
       "    <tr>\n",
       "      <th>9</th>\n",
       "      <td>cansu</td>\n",
       "      <td>yüzme</td>\n",
       "      <td>249</td>\n",
       "    </tr>\n",
       "    <tr>\n",
       "      <th>10</th>\n",
       "      <td>leyla</td>\n",
       "      <td>ağırlık</td>\n",
       "      <td>490</td>\n",
       "    </tr>\n",
       "    <tr>\n",
       "      <th>11</th>\n",
       "      <td>cemil</td>\n",
       "      <td>tırmanış</td>\n",
       "      <td>620</td>\n",
       "    </tr>\n",
       "  </tbody>\n",
       "</table>\n",
       "</div>"
      ],
      "text/plain": [
       "     Isım      Spor  Kalori\n",
       "8   özgür      koşu     170\n",
       "9   cansu     yüzme     249\n",
       "10  leyla   ağırlık     490\n",
       "11  cemil  tırmanış     620"
      ]
     },
     "execution_count": 15,
     "metadata": {},
     "output_type": "execute_result"
    }
   ],
   "source": [
    "dataFrame3"
   ]
  },
  {
   "cell_type": "markdown",
   "id": "17bbdc25-9666-4755-9466-93da74d596cc",
   "metadata": {},
   "source": [
    "## Concatenation"
   ]
  },
  {
   "cell_type": "code",
   "execution_count": 16,
   "id": "850e8668-0970-4c6b-b3cc-a8cbe57ccb88",
   "metadata": {},
   "outputs": [],
   "source": [
    "# kolonlar aynıysa tabloları birleştirmek için bu işlem yapılır."
   ]
  },
  {
   "cell_type": "code",
   "execution_count": 17,
   "id": "2ac50710-664e-4398-ac5b-f131c2781a27",
   "metadata": {},
   "outputs": [
    {
     "data": {
      "text/html": [
       "<div>\n",
       "<style scoped>\n",
       "    .dataframe tbody tr th:only-of-type {\n",
       "        vertical-align: middle;\n",
       "    }\n",
       "\n",
       "    .dataframe tbody tr th {\n",
       "        vertical-align: top;\n",
       "    }\n",
       "\n",
       "    .dataframe thead th {\n",
       "        text-align: right;\n",
       "    }\n",
       "</style>\n",
       "<table border=\"1\" class=\"dataframe\">\n",
       "  <thead>\n",
       "    <tr style=\"text-align: right;\">\n",
       "      <th></th>\n",
       "      <th>Isım</th>\n",
       "      <th>Spor</th>\n",
       "      <th>Kalori</th>\n",
       "    </tr>\n",
       "  </thead>\n",
       "  <tbody>\n",
       "    <tr>\n",
       "      <th>0</th>\n",
       "      <td>ahmet</td>\n",
       "      <td>koşu</td>\n",
       "      <td>100</td>\n",
       "    </tr>\n",
       "    <tr>\n",
       "      <th>1</th>\n",
       "      <td>mehmet</td>\n",
       "      <td>yüzme</td>\n",
       "      <td>200</td>\n",
       "    </tr>\n",
       "    <tr>\n",
       "      <th>2</th>\n",
       "      <td>zeynep</td>\n",
       "      <td>ağırlık</td>\n",
       "      <td>300</td>\n",
       "    </tr>\n",
       "    <tr>\n",
       "      <th>3</th>\n",
       "      <td>saadet</td>\n",
       "      <td>tırmanış</td>\n",
       "      <td>400</td>\n",
       "    </tr>\n",
       "    <tr>\n",
       "      <th>4</th>\n",
       "      <td>osman</td>\n",
       "      <td>koşu</td>\n",
       "      <td>120</td>\n",
       "    </tr>\n",
       "    <tr>\n",
       "      <th>5</th>\n",
       "      <td>levent</td>\n",
       "      <td>yüzme</td>\n",
       "      <td>240</td>\n",
       "    </tr>\n",
       "    <tr>\n",
       "      <th>6</th>\n",
       "      <td>ayşe</td>\n",
       "      <td>ağırlık</td>\n",
       "      <td>390</td>\n",
       "    </tr>\n",
       "    <tr>\n",
       "      <th>7</th>\n",
       "      <td>fatma</td>\n",
       "      <td>tırmanış</td>\n",
       "      <td>420</td>\n",
       "    </tr>\n",
       "    <tr>\n",
       "      <th>8</th>\n",
       "      <td>özgür</td>\n",
       "      <td>koşu</td>\n",
       "      <td>170</td>\n",
       "    </tr>\n",
       "    <tr>\n",
       "      <th>9</th>\n",
       "      <td>cansu</td>\n",
       "      <td>yüzme</td>\n",
       "      <td>249</td>\n",
       "    </tr>\n",
       "    <tr>\n",
       "      <th>10</th>\n",
       "      <td>leyla</td>\n",
       "      <td>ağırlık</td>\n",
       "      <td>490</td>\n",
       "    </tr>\n",
       "    <tr>\n",
       "      <th>11</th>\n",
       "      <td>cemil</td>\n",
       "      <td>tırmanış</td>\n",
       "      <td>620</td>\n",
       "    </tr>\n",
       "  </tbody>\n",
       "</table>\n",
       "</div>"
      ],
      "text/plain": [
       "      Isım      Spor  Kalori\n",
       "0    ahmet      koşu     100\n",
       "1   mehmet     yüzme     200\n",
       "2   zeynep   ağırlık     300\n",
       "3   saadet  tırmanış     400\n",
       "4    osman      koşu     120\n",
       "5   levent     yüzme     240\n",
       "6     ayşe   ağırlık     390\n",
       "7    fatma  tırmanış     420\n",
       "8    özgür      koşu     170\n",
       "9    cansu     yüzme     249\n",
       "10   leyla   ağırlık     490\n",
       "11   cemil  tırmanış     620"
      ]
     },
     "execution_count": 17,
     "metadata": {},
     "output_type": "execute_result"
    }
   ],
   "source": [
    "pd.concat([dataFrame,dataFrame2,dataFrame3])"
   ]
  },
  {
   "cell_type": "markdown",
   "id": "c566c7d6-ff46-4396-8921-5fd46c50f0aa",
   "metadata": {},
   "source": [
    "## MERGE"
   ]
  },
  {
   "cell_type": "code",
   "execution_count": 19,
   "id": "7b2ed912-5289-4d83-96f7-99b50c3a733e",
   "metadata": {},
   "outputs": [],
   "source": [
    "yeniTablo1 = {\"Isım\": [\"ahmet\",\"özgür\",\"selin\",\"ceyda\",\"esra\"],\n",
    "             \"Spor\": [\"koşu\",\"yüzme\",\"basketbol\",\"ağırlık\",\"futbol\"]}\n",
    "yeniDataFrame = pd.DataFrame(yeniTablo1, index = [0,1,2,3,4])"
   ]
  },
  {
   "cell_type": "code",
   "execution_count": 20,
   "id": "eac20710-dcc2-432e-9c80-7dfd82aeedec",
   "metadata": {},
   "outputs": [],
   "source": [
    "yeniTablo2 = {\"Isım\": [\"ahmet\",\"özgür\",\"selin\",\"ceyda\",\"esra\"],\n",
    "             \"kalori\": [100,200,300,400,500]}\n",
    "yeniDataFrame2 = pd.DataFrame(yeniTablo2, index = [0,1,2,3,4])"
   ]
  },
  {
   "cell_type": "code",
   "execution_count": 21,
   "id": "d0da0127-6360-4837-9be4-e5c4793d6158",
   "metadata": {},
   "outputs": [
    {
     "data": {
      "text/html": [
       "<div>\n",
       "<style scoped>\n",
       "    .dataframe tbody tr th:only-of-type {\n",
       "        vertical-align: middle;\n",
       "    }\n",
       "\n",
       "    .dataframe tbody tr th {\n",
       "        vertical-align: top;\n",
       "    }\n",
       "\n",
       "    .dataframe thead th {\n",
       "        text-align: right;\n",
       "    }\n",
       "</style>\n",
       "<table border=\"1\" class=\"dataframe\">\n",
       "  <thead>\n",
       "    <tr style=\"text-align: right;\">\n",
       "      <th></th>\n",
       "      <th>Isım</th>\n",
       "      <th>Spor</th>\n",
       "      <th>kalori</th>\n",
       "    </tr>\n",
       "  </thead>\n",
       "  <tbody>\n",
       "    <tr>\n",
       "      <th>0</th>\n",
       "      <td>ahmet</td>\n",
       "      <td>koşu</td>\n",
       "      <td>100</td>\n",
       "    </tr>\n",
       "    <tr>\n",
       "      <th>1</th>\n",
       "      <td>özgür</td>\n",
       "      <td>yüzme</td>\n",
       "      <td>200</td>\n",
       "    </tr>\n",
       "    <tr>\n",
       "      <th>2</th>\n",
       "      <td>selin</td>\n",
       "      <td>basketbol</td>\n",
       "      <td>300</td>\n",
       "    </tr>\n",
       "    <tr>\n",
       "      <th>3</th>\n",
       "      <td>ceyda</td>\n",
       "      <td>ağırlık</td>\n",
       "      <td>400</td>\n",
       "    </tr>\n",
       "    <tr>\n",
       "      <th>4</th>\n",
       "      <td>esra</td>\n",
       "      <td>futbol</td>\n",
       "      <td>500</td>\n",
       "    </tr>\n",
       "  </tbody>\n",
       "</table>\n",
       "</div>"
      ],
      "text/plain": [
       "    Isım       Spor  kalori\n",
       "0  ahmet       koşu     100\n",
       "1  özgür      yüzme     200\n",
       "2  selin  basketbol     300\n",
       "3  ceyda    ağırlık     400\n",
       "4   esra     futbol     500"
      ]
     },
     "execution_count": 21,
     "metadata": {},
     "output_type": "execute_result"
    }
   ],
   "source": [
    "pd.merge(yeniDataFrame,yeniDataFrame2,on=\"Isım\")"
   ]
  },
  {
   "cell_type": "code",
   "execution_count": 22,
   "id": "9f905d43-321e-4deb-ab59-f070a53739a7",
   "metadata": {},
   "outputs": [],
   "source": [
    "#ortak olan kolonu on şeklinde belirtiyorum"
   ]
  },
  {
   "cell_type": "code",
   "execution_count": 23,
   "id": "236b8182-4aa0-4234-a8bb-eea2b2b8dd93",
   "metadata": {},
   "outputs": [],
   "source": [
    "#böylelikle benim birinci tabloda olan değerlerimin yanında eklediğim diğer kolon da birlikte geliyor."
   ]
  },
  {
   "cell_type": "markdown",
   "id": "6bd9c982-b12d-4369-b898-3824831910ca",
   "metadata": {},
   "source": [
    "## Trikler"
   ]
  },
  {
   "cell_type": "code",
   "execution_count": 25,
   "id": "e7f26f82-bab6-4e6f-a3ca-5899d1d25c0f",
   "metadata": {},
   "outputs": [],
   "source": [
    "#verisetimde tekrar etmeyen verileri almak istiyorum."
   ]
  },
  {
   "cell_type": "code",
   "execution_count": 38,
   "id": "351f726c-6268-4702-8916-9e209ce5c42c",
   "metadata": {},
   "outputs": [],
   "source": [
    "maasSozluk = {\"Isım\": [\"ahmet\",\"leyla\",\"ceyda\",\"selim\"],\n",
    "             \"departman\": [\"pazarlama\",\"yazılım\",\"yazılım\",\"yazılım\"],\n",
    "             \"maas\": [1000,1000,1300,2400]}\n",
    "maasDataFrame = pd.DataFrame(maasSozluk)"
   ]
  },
  {
   "cell_type": "code",
   "execution_count": 39,
   "id": "91986fa1-595b-4424-b25f-558bb77a7399",
   "metadata": {},
   "outputs": [
    {
     "data": {
      "text/html": [
       "<div>\n",
       "<style scoped>\n",
       "    .dataframe tbody tr th:only-of-type {\n",
       "        vertical-align: middle;\n",
       "    }\n",
       "\n",
       "    .dataframe tbody tr th {\n",
       "        vertical-align: top;\n",
       "    }\n",
       "\n",
       "    .dataframe thead th {\n",
       "        text-align: right;\n",
       "    }\n",
       "</style>\n",
       "<table border=\"1\" class=\"dataframe\">\n",
       "  <thead>\n",
       "    <tr style=\"text-align: right;\">\n",
       "      <th></th>\n",
       "      <th>Isım</th>\n",
       "      <th>departman</th>\n",
       "      <th>maas</th>\n",
       "    </tr>\n",
       "  </thead>\n",
       "  <tbody>\n",
       "    <tr>\n",
       "      <th>0</th>\n",
       "      <td>ahmet</td>\n",
       "      <td>pazarlama</td>\n",
       "      <td>1000</td>\n",
       "    </tr>\n",
       "    <tr>\n",
       "      <th>1</th>\n",
       "      <td>leyla</td>\n",
       "      <td>yazılım</td>\n",
       "      <td>1000</td>\n",
       "    </tr>\n",
       "    <tr>\n",
       "      <th>2</th>\n",
       "      <td>ceyda</td>\n",
       "      <td>yazılım</td>\n",
       "      <td>1300</td>\n",
       "    </tr>\n",
       "    <tr>\n",
       "      <th>3</th>\n",
       "      <td>selim</td>\n",
       "      <td>yazılım</td>\n",
       "      <td>2400</td>\n",
       "    </tr>\n",
       "  </tbody>\n",
       "</table>\n",
       "</div>"
      ],
      "text/plain": [
       "    Isım  departman  maas\n",
       "0  ahmet  pazarlama  1000\n",
       "1  leyla    yazılım  1000\n",
       "2  ceyda    yazılım  1300\n",
       "3  selim    yazılım  2400"
      ]
     },
     "execution_count": 39,
     "metadata": {},
     "output_type": "execute_result"
    }
   ],
   "source": [
    "maasDataFrame"
   ]
  },
  {
   "cell_type": "code",
   "execution_count": 40,
   "id": "d56d3cf1-6655-4876-a78f-68f502eea5ff",
   "metadata": {},
   "outputs": [
    {
     "data": {
      "text/plain": [
       "array(['pazarlama', 'yazılım'], dtype=object)"
      ]
     },
     "execution_count": 40,
     "metadata": {},
     "output_type": "execute_result"
    }
   ],
   "source": [
    "maasDataFrame[\"departman\"].unique()"
   ]
  },
  {
   "cell_type": "code",
   "execution_count": 41,
   "id": "849dc55e-4dfb-49bc-a6f0-5107de728e23",
   "metadata": {},
   "outputs": [],
   "source": [
    "#dediğim zaman bana tekrar eden değerleri getirmez sadece tek olan veriker döner."
   ]
  },
  {
   "cell_type": "code",
   "execution_count": 42,
   "id": "b496c9ae-c78d-4762-82ac-7bf8d89e6fb2",
   "metadata": {},
   "outputs": [
    {
     "data": {
      "text/plain": [
       "2"
      ]
     },
     "execution_count": 42,
     "metadata": {},
     "output_type": "execute_result"
    }
   ],
   "source": [
    "maasDataFrame[\"departman\"].nunique()"
   ]
  },
  {
   "cell_type": "code",
   "execution_count": 43,
   "id": "4856f4ec-4ff5-47fd-a3d2-00e5fd3de602",
   "metadata": {},
   "outputs": [
    {
     "data": {
      "text/plain": [
       "departman\n",
       "yazılım      3\n",
       "pazarlama    1\n",
       "Name: count, dtype: int64"
      ]
     },
     "execution_count": 43,
     "metadata": {},
     "output_type": "execute_result"
    }
   ],
   "source": [
    "maasDataFrame[\"departman\"].value_counts()"
   ]
  },
  {
   "cell_type": "code",
   "execution_count": 44,
   "id": "4bfba515-780e-4964-a9ba-fb9838455d18",
   "metadata": {},
   "outputs": [],
   "source": [
    "def brutNet(maas):\n",
    "    return maas * 0.66"
   ]
  },
  {
   "cell_type": "code",
   "execution_count": 45,
   "id": "0954072e-777a-4bbb-9487-7f5efdfa6b40",
   "metadata": {},
   "outputs": [
    {
     "data": {
      "text/plain": [
       "0     660.0\n",
       "1     660.0\n",
       "2     858.0\n",
       "3    1584.0\n",
       "Name: maas, dtype: float64"
      ]
     },
     "execution_count": 45,
     "metadata": {},
     "output_type": "execute_result"
    }
   ],
   "source": [
    "maasDataFrame[\"maas\"].apply(brutNet)"
   ]
  },
  {
   "cell_type": "code",
   "execution_count": 46,
   "id": "5d00c208-56ac-46e7-a2d4-8df34ad9b4a0",
   "metadata": {},
   "outputs": [],
   "source": [
    "#böyle yaparak maas kolonundaki tüm verileri 0.66 ile çarpmış oldum."
   ]
  },
  {
   "cell_type": "code",
   "execution_count": 47,
   "id": "08566042-09f1-4a81-a2a0-428933367dd3",
   "metadata": {},
   "outputs": [
    {
     "data": {
      "text/html": [
       "<div>\n",
       "<style scoped>\n",
       "    .dataframe tbody tr th:only-of-type {\n",
       "        vertical-align: middle;\n",
       "    }\n",
       "\n",
       "    .dataframe tbody tr th {\n",
       "        vertical-align: top;\n",
       "    }\n",
       "\n",
       "    .dataframe thead th {\n",
       "        text-align: right;\n",
       "    }\n",
       "</style>\n",
       "<table border=\"1\" class=\"dataframe\">\n",
       "  <thead>\n",
       "    <tr style=\"text-align: right;\">\n",
       "      <th></th>\n",
       "      <th>Isım</th>\n",
       "      <th>departman</th>\n",
       "      <th>maas</th>\n",
       "    </tr>\n",
       "  </thead>\n",
       "  <tbody>\n",
       "    <tr>\n",
       "      <th>0</th>\n",
       "      <td>False</td>\n",
       "      <td>False</td>\n",
       "      <td>False</td>\n",
       "    </tr>\n",
       "    <tr>\n",
       "      <th>1</th>\n",
       "      <td>False</td>\n",
       "      <td>False</td>\n",
       "      <td>False</td>\n",
       "    </tr>\n",
       "    <tr>\n",
       "      <th>2</th>\n",
       "      <td>False</td>\n",
       "      <td>False</td>\n",
       "      <td>False</td>\n",
       "    </tr>\n",
       "    <tr>\n",
       "      <th>3</th>\n",
       "      <td>False</td>\n",
       "      <td>False</td>\n",
       "      <td>False</td>\n",
       "    </tr>\n",
       "  </tbody>\n",
       "</table>\n",
       "</div>"
      ],
      "text/plain": [
       "    Isım  departman   maas\n",
       "0  False      False  False\n",
       "1  False      False  False\n",
       "2  False      False  False\n",
       "3  False      False  False"
      ]
     },
     "execution_count": 47,
     "metadata": {},
     "output_type": "execute_result"
    }
   ],
   "source": [
    "maasDataFrame.isnull()"
   ]
  },
  {
   "cell_type": "code",
   "execution_count": 49,
   "id": "f000d278-0e15-4000-9ed3-50c0d3080e1e",
   "metadata": {},
   "outputs": [],
   "source": [
    "#isnull diyerek boş değer olup olmadığını kontrol edebiliyorum.\n",
    "# bu fonksiyon boolean olarak çalışır ve eğer boş değer varsa True döndürür.\n",
    "# bizim şu anda listemizde boş değer yok."
   ]
  },
  {
   "cell_type": "code",
   "execution_count": null,
   "id": "f175ac4c-0d02-415c-b484-7b1311c8fc87",
   "metadata": {},
   "outputs": [],
   "source": []
  }
 ],
 "metadata": {
  "kernelspec": {
   "display_name": "Python 3 (ipykernel)",
   "language": "python",
   "name": "python3"
  },
  "language_info": {
   "codemirror_mode": {
    "name": "ipython",
    "version": 3
   },
   "file_extension": ".py",
   "mimetype": "text/x-python",
   "name": "python",
   "nbconvert_exporter": "python",
   "pygments_lexer": "ipython3",
   "version": "3.12.3"
  }
 },
 "nbformat": 4,
 "nbformat_minor": 5
}
