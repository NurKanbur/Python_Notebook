{
 "cells": [
  {
   "cell_type": "code",
   "execution_count": 11,
   "id": "0257617a-9ed8-4969-b1dc-f3f3f8d8b8da",
   "metadata": {},
   "outputs": [],
   "source": [
    "class SuperKahraman():\n",
    "    def __init__(self,isimInput,yasInput,meslekInput):\n",
    "        print(\"init çağırıldı\")\n",
    "        self.isim = isimInput\n",
    "        self.yas = yasInput\n",
    "        self.meslek = meslekInput"
   ]
  },
  {
   "cell_type": "code",
   "execution_count": 12,
   "id": "c9ce8a22-8ce3-4bfe-8d12-ed01f9f53d0a",
   "metadata": {},
   "outputs": [
    {
     "name": "stdout",
     "output_type": "stream",
     "text": [
      "init çağırıldı\n"
     ]
    }
   ],
   "source": [
    "superman = SuperKahraman(\"Superman\",30,\"Gazeteci\")"
   ]
  },
  {
   "cell_type": "code",
   "execution_count": 13,
   "id": "01d6f1e8-04e9-41d1-b6ed-fa1b441906dc",
   "metadata": {},
   "outputs": [],
   "source": [
    "# ben bu süper kahramanlar için özellik girmek istersem bunlara 'attribute' denir."
   ]
  },
  {
   "cell_type": "code",
   "execution_count": 15,
   "id": "fd36dee8-2e37-48ba-bd46-dbe511cada60",
   "metadata": {},
   "outputs": [],
   "source": [
    "superman.isim = \"batman\""
   ]
  },
  {
   "cell_type": "code",
   "execution_count": 16,
   "id": "5ed0aef6-32a9-4187-b127-ac0137e60226",
   "metadata": {},
   "outputs": [
    {
     "data": {
      "text/plain": [
       "'batman'"
      ]
     },
     "execution_count": 16,
     "metadata": {},
     "output_type": "execute_result"
    }
   ],
   "source": [
    "superman.isim"
   ]
  },
  {
   "cell_type": "code",
   "execution_count": 23,
   "id": "01969667-7025-4375-aac1-94f71d875e0f",
   "metadata": {},
   "outputs": [],
   "source": [
    "class kopek():\n",
    "    def __init__(self,yas=5):\n",
    "        self.yas = yas\n"
   ]
  },
  {
   "cell_type": "code",
   "execution_count": 24,
   "id": "647c9504-15e2-48f9-bdf7-7cee187b0c6c",
   "metadata": {},
   "outputs": [],
   "source": [
    "benimKopek = kopek()"
   ]
  },
  {
   "cell_type": "code",
   "execution_count": 25,
   "id": "4bc8b338-f6bd-42e1-8b63-597a90766624",
   "metadata": {},
   "outputs": [
    {
     "data": {
      "text/plain": [
       "5"
      ]
     },
     "execution_count": 25,
     "metadata": {},
     "output_type": "execute_result"
    }
   ],
   "source": [
    "benimKopek.yas"
   ]
  },
  {
   "cell_type": "code",
   "execution_count": 26,
   "id": "a7bbb792-ac6b-4fbc-9b16-94d52e7d74f4",
   "metadata": {},
   "outputs": [],
   "source": [
    "# herhangi bir değer verilmese de çalışmaya devam etmesini istiyoruz\n",
    "# o zaman bunu yapmamız gerekecektir. "
   ]
  },
  {
   "cell_type": "code",
   "execution_count": 27,
   "id": "1f3776a5-de16-4a1f-994d-1e24715f9885",
   "metadata": {},
   "outputs": [],
   "source": [
    "# yas tanımını self içinde yaparsak defualt değer olarak onu gösterir \n",
    "# ancek bu değerin istenilen zamanda değiştirilemeyeceği anlamına gelmez \n",
    "# değer döndürürken girmek istediğimiz yaşı girersek makine onu döndürür"
   ]
  },
  {
   "cell_type": "code",
   "execution_count": 52,
   "id": "a1782fea-d42a-4f71-b027-c00785797324",
   "metadata": {},
   "outputs": [],
   "source": [
    "class kopekler():\n",
    "    def __init__(self,age):\n",
    "        self.age = age\n",
    "        self.peopleAge = self.age* 7\n",
    "    def bilgi_goster(self):\n",
    "        print(f\"köpeğin yaşı: {self.age} , İnsan yaşı: {self.peopleAge}\")"
   ]
  },
  {
   "cell_type": "code",
   "execution_count": 53,
   "id": "27b17827-34b9-4631-9f91-83ecf62bb358",
   "metadata": {},
   "outputs": [],
   "source": [
    "bırıncıKopek = kopekler(4)"
   ]
  },
  {
   "cell_type": "code",
   "execution_count": 54,
   "id": "dc689af0-87e9-457f-8996-43bfebb59883",
   "metadata": {},
   "outputs": [
    {
     "name": "stdout",
     "output_type": "stream",
     "text": [
      "köpeğin yaşı: 4 , İnsan yaşı: 28\n"
     ]
    }
   ],
   "source": [
    "bırıncıKopek.bilgi_goster()"
   ]
  },
  {
   "cell_type": "markdown",
   "id": "18f53e09-23d5-4162-83cc-6b2d2b35164f",
   "metadata": {},
   "source": [
    "## İnheritance"
   ]
  },
  {
   "cell_type": "code",
   "execution_count": 55,
   "id": "1aaa7806-6310-4243-9964-17d4c77cf154",
   "metadata": {},
   "outputs": [],
   "source": [
    "class Hayvan():\n",
    "    def __init__(self):\n",
    "        print(\"hayvan sınııfı init çağırıldı\")\n",
    "    def method(self):\n",
    "        print(\"hayvan sınıfı methode bir çağırıldı\")\n",
    "    def methode2(self):\n",
    "        print(\"hayvan sınıfı methode2 çağırıldı\")"
   ]
  },
  {
   "cell_type": "code",
   "execution_count": 56,
   "id": "ae17857f-f6f4-4e32-a8a8-f5da0b14df98",
   "metadata": {},
   "outputs": [
    {
     "name": "stdout",
     "output_type": "stream",
     "text": [
      "hayvan sınııfı init çağırıldı\n"
     ]
    }
   ],
   "source": [
    "benimHayvan = Hayvan()"
   ]
  },
  {
   "cell_type": "code",
   "execution_count": 57,
   "id": "4c48de1c-3cba-452e-acca-7b75ea4472a8",
   "metadata": {},
   "outputs": [
    {
     "name": "stdout",
     "output_type": "stream",
     "text": [
      "hayvan sınıfı methode bir çağırıldı\n"
     ]
    }
   ],
   "source": [
    "benimHayvan.method()"
   ]
  },
  {
   "cell_type": "code",
   "execution_count": 58,
   "id": "b5ea140a-cabd-475f-b223-9dfac74a72ee",
   "metadata": {},
   "outputs": [
    {
     "name": "stdout",
     "output_type": "stream",
     "text": [
      "hayvan sınıfı methode2 çağırıldı\n"
     ]
    }
   ],
   "source": [
    "benimHayvan.methode2()"
   ]
  },
  {
   "cell_type": "code",
   "execution_count": 59,
   "id": "d98843fa-c61a-40c9-86e5-9a5b76064fb5",
   "metadata": {},
   "outputs": [],
   "source": [
    "class kedi(Hayvan):\n",
    "    def __init__(self):\n",
    "        Hayvan.__init__(self)\n",
    "        print(\"kedi sınıfı init çağırıldı\")"
   ]
  },
  {
   "cell_type": "code",
   "execution_count": 61,
   "id": "6ec917f2-743a-447e-8559-4cf833574a80",
   "metadata": {},
   "outputs": [
    {
     "name": "stdout",
     "output_type": "stream",
     "text": [
      "hayvan sınııfı init çağırıldı\n",
      "kedi sınıfı init çağırıldı\n"
     ]
    }
   ],
   "source": [
    "benimKedim = kedi()"
   ]
  },
  {
   "cell_type": "code",
   "execution_count": 62,
   "id": "d902ac39-8f1c-4f05-a1c9-2bc5721ac307",
   "metadata": {},
   "outputs": [
    {
     "name": "stdout",
     "output_type": "stream",
     "text": [
      "hayvan sınıfı methode bir çağırıldı\n"
     ]
    }
   ],
   "source": [
    "benimKedim.method()"
   ]
  },
  {
   "cell_type": "code",
   "execution_count": 65,
   "id": "4d38b977-eb96-4c89-8aab-096dc3e67af8",
   "metadata": {},
   "outputs": [],
   "source": [
    "# Hayvan sınıfını kedi sınıfına kalıntıladık ve artık kedi hayvan sınıfının bilgilerini alabilir\n",
    "# Ancak kedi sınıfının özellikleri hayvan sınıfı tarafından kullanılamaz.\n",
    "# Hayvan sınıfında yaptığımız değişiklikler kedi sınıfını da etkiler.\n",
    "# Eğer hayvan sınıfından alınan bir methodun hayvan sınıfında aynı kalmasını ama kedi sınıfında değişmesini istersem\n",
    "# kedi sınıfı içerisinde yaynı method isimli bir method oluşturup içeriğini değiştirebilirim."
   ]
  },
  {
   "cell_type": "code",
   "execution_count": 66,
   "id": "9e5031c0-96ef-4173-9d9b-b296acf84ded",
   "metadata": {},
   "outputs": [
    {
     "name": "stdout",
     "output_type": "stream",
     "text": [
      "hayvan sınııfı init çağırıldı\n"
     ]
    }
   ],
   "source": [
    "digerHayvan = Hayvan()"
   ]
  },
  {
   "cell_type": "markdown",
   "id": "c0d432f9-8af3-41ad-922f-4fa1a27f41fd",
   "metadata": {},
   "source": [
    "## POLYMORPHİSM"
   ]
  },
  {
   "cell_type": "code",
   "execution_count": 67,
   "id": "02760ebc-5900-4dbc-984b-e85e5b02e399",
   "metadata": {},
   "outputs": [],
   "source": [
    "# aynı isimde olan methıdların veya fonksiyonların ayrı amaca hismet edebilmesini sağlamak."
   ]
  },
  {
   "cell_type": "code",
   "execution_count": 82,
   "id": "9b7a2ea1-e39f-4720-9d87-3d06943fb2b3",
   "metadata": {},
   "outputs": [],
   "source": [
    "class Elma():\n",
    "    def __init__(self,isim):\n",
    "        self.isim = isim\n",
    "    def bilgiVer(self):\n",
    "        return self.isim + \" 50 kaloridir.\""
   ]
  },
  {
   "cell_type": "code",
   "execution_count": 93,
   "id": "7db3027b-d716-4c3d-9b3f-900a58a0fda3",
   "metadata": {},
   "outputs": [],
   "source": [
    "class Muz():\n",
    "    def __init__(self,isim):\n",
    "        self.isim = isim\n",
    "    def bilgiVer(self):\n",
    "            return self.isim + \" 70 kaloridir.\""
   ]
  },
  {
   "cell_type": "code",
   "execution_count": 94,
   "id": "f6269fba-7c19-4366-8ce8-44e190baeafd",
   "metadata": {},
   "outputs": [],
   "source": [
    "elma = Elma(\"elma\")"
   ]
  },
  {
   "cell_type": "code",
   "execution_count": 95,
   "id": "44b67199-3f4e-489b-91c2-e2aa0de73d00",
   "metadata": {},
   "outputs": [
    {
     "data": {
      "text/plain": [
       "'elma 50 kaloridir.'"
      ]
     },
     "execution_count": 95,
     "metadata": {},
     "output_type": "execute_result"
    }
   ],
   "source": [
    "elma.bilgiVer()"
   ]
  },
  {
   "cell_type": "code",
   "execution_count": 96,
   "id": "b0140872-dce3-4138-b12a-ab7be399dc74",
   "metadata": {},
   "outputs": [],
   "source": [
    "muz = Muz(\"muz\")"
   ]
  },
  {
   "cell_type": "code",
   "execution_count": 97,
   "id": "73bc1f2e-4f3e-48b6-9c9e-e9b2f49e21c3",
   "metadata": {},
   "outputs": [
    {
     "data": {
      "text/plain": [
       "'muz 70 kaloridir.'"
      ]
     },
     "execution_count": 97,
     "metadata": {},
     "output_type": "execute_result"
    }
   ],
   "source": [
    "muz.bilgiVer()"
   ]
  },
  {
   "cell_type": "markdown",
   "id": "c1ad17a6-5769-46f3-bf7d-008e57b87094",
   "metadata": {},
   "source": [
    "## NUMPY Konusu"
   ]
  },
  {
   "cell_type": "code",
   "execution_count": 1,
   "id": "c44b8956-3668-4a21-a969-9a3a913f46d5",
   "metadata": {},
   "outputs": [],
   "source": [
    "import numpy as np"
   ]
  },
  {
   "cell_type": "code",
   "execution_count": 2,
   "id": "1ecd2322-7827-40cd-87b2-c8b587f5cf0d",
   "metadata": {},
   "outputs": [],
   "source": [
    "benimListem = [1,2,3,4,5,6]"
   ]
  },
  {
   "cell_type": "code",
   "execution_count": 3,
   "id": "8162f427-6614-47be-aebe-f1a68f6aefb2",
   "metadata": {},
   "outputs": [],
   "source": [
    "matrixListesi = [[10,20,30],[20,30,40],[40,50,60]]"
   ]
  },
  {
   "cell_type": "code",
   "execution_count": 4,
   "id": "77a4fc2f-e2d3-4400-bdb2-7bddbb6a396a",
   "metadata": {},
   "outputs": [
    {
     "data": {
      "text/plain": [
       "20"
      ]
     },
     "execution_count": 4,
     "metadata": {},
     "output_type": "execute_result"
    }
   ],
   "source": [
    "matrixListesi [1] [0]"
   ]
  },
  {
   "cell_type": "code",
   "execution_count": 5,
   "id": "3388c162-0c44-4b76-9d92-d3dfae1b279c",
   "metadata": {},
   "outputs": [
    {
     "data": {
      "text/plain": [
       "array([[10, 20, 30],\n",
       "       [20, 30, 40],\n",
       "       [40, 50, 60]])"
      ]
     },
     "execution_count": 5,
     "metadata": {},
     "output_type": "execute_result"
    }
   ],
   "source": [
    "np.array(matrixListesi)"
   ]
  },
  {
   "cell_type": "markdown",
   "id": "0acbdb68-a128-4abc-b310-104943b05c38",
   "metadata": {},
   "source": [
    "## ARANGE "
   ]
  },
  {
   "cell_type": "code",
   "execution_count": 6,
   "id": "c2261e47-9cfa-426d-bddb-527ce77673ac",
   "metadata": {},
   "outputs": [
    {
     "data": {
      "text/plain": [
       "array([0, 1, 2, 3, 4, 5, 6, 7, 8, 9])"
      ]
     },
     "execution_count": 6,
     "metadata": {},
     "output_type": "execute_result"
    }
   ],
   "source": [
    "np.arange(0,10)"
   ]
  },
  {
   "cell_type": "code",
   "execution_count": 7,
   "id": "e625ab46-5f74-4228-ab96-c2388f487de4",
   "metadata": {},
   "outputs": [],
   "source": [
    "#arange de verdiğimiz değer aralığında bize bir liste oluşturur."
   ]
  },
  {
   "cell_type": "code",
   "execution_count": 9,
   "id": "2bd4d469-54a4-4dee-b31d-b1f496422784",
   "metadata": {},
   "outputs": [
    {
     "data": {
      "text/plain": [
       "array([ 2,  4,  6,  8, 10, 12, 14, 16, 18])"
      ]
     },
     "execution_count": 9,
     "metadata": {},
     "output_type": "execute_result"
    }
   ],
   "source": [
    "np.arange(2,20,2)"
   ]
  },
  {
   "cell_type": "code",
   "execution_count": 10,
   "id": "2478e7d1-a51f-4f3c-acc7-f036bc6d1856",
   "metadata": {},
   "outputs": [],
   "source": [
    "#Sonda versiğimiz değer ile liseye eklenecek değerlerin kaçar artacağını belirleriz."
   ]
  },
  {
   "cell_type": "markdown",
   "id": "c6ee470c-bd7f-4da4-b572-cabb4d280e80",
   "metadata": {},
   "source": [
    "## LİNSPACE"
   ]
  },
  {
   "cell_type": "code",
   "execution_count": 11,
   "id": "76959118-afe7-4a9f-80e0-06d84402b635",
   "metadata": {},
   "outputs": [
    {
     "data": {
      "text/plain": [
       "array([ 1.  ,  5.75, 10.5 , 15.25, 20.  ])"
      ]
     },
     "execution_count": 11,
     "metadata": {},
     "output_type": "execute_result"
    }
   ],
   "source": [
    "np.linspace(1,20,5)"
   ]
  },
  {
   "cell_type": "code",
   "execution_count": 12,
   "id": "d9360a31-2a7b-4751-89f0-c586009ca3b9",
   "metadata": {},
   "outputs": [],
   "source": [
    "#linspace, aralarında eşit bir aralık olacak şekilde verdiğimiz değerlerle bir matris oluşturur."
   ]
  },
  {
   "cell_type": "code",
   "execution_count": 13,
   "id": "bfba738e-c582-47a8-8f3f-1642f574656a",
   "metadata": {},
   "outputs": [],
   "source": [
    "#bunlardan önce zeros ve ones methodları vardı bunlar da verilen matrix değerlerine göre sadece o veya sadece 1 den oluşan matrixler verir."
   ]
  },
  {
   "cell_type": "code",
   "execution_count": 15,
   "id": "5acddd2f-1362-4cd0-831d-86bf48b4baba",
   "metadata": {},
   "outputs": [
    {
     "data": {
      "text/plain": [
       "array([ 0.        ,  1.11111111,  2.22222222,  3.33333333,  4.44444444,\n",
       "        5.55555556,  6.66666667,  7.77777778,  8.88888889, 10.        ])"
      ]
     },
     "execution_count": 15,
     "metadata": {},
     "output_type": "execute_result"
    }
   ],
   "source": [
    "np.linspace(0,10,10)"
   ]
  },
  {
   "cell_type": "markdown",
   "id": "c085f5d9-38ad-40a0-87cb-5651cbeb5d98",
   "metadata": {},
   "source": [
    "## RANDOM METHOD"
   ]
  },
  {
   "cell_type": "code",
   "execution_count": 20,
   "id": "4df9f2d5-cfcb-4618-83bf-3f90ae2ad9c1",
   "metadata": {},
   "outputs": [
    {
     "data": {
      "text/plain": [
       "array([36, 29, 47, 27, 18])"
      ]
     },
     "execution_count": 20,
     "metadata": {},
     "output_type": "execute_result"
    }
   ],
   "source": [
    "np.random.randint(1,50,5)"
   ]
  },
  {
   "cell_type": "code",
   "execution_count": 21,
   "id": "85967d87-0fba-4e94-aa38-8915434741ee",
   "metadata": {},
   "outputs": [],
   "source": [
    "#random metodu belirlediğimiz aralıkta rast gele olacaak şekilde bir liste oluşturur."
   ]
  },
  {
   "cell_type": "code",
   "execution_count": 22,
   "id": "bd4b7c16-81d7-4f30-adba-21e6b1c9d64b",
   "metadata": {},
   "outputs": [],
   "source": [
    "#randint deme nedenimiz ise oluşacak matris değerlerinin türünün int olmasıdır."
   ]
  },
  {
   "cell_type": "markdown",
   "id": "3b16849d-b398-4db9-9477-0380e75626af",
   "metadata": {},
   "source": [
    "## NUMPY DİZİ METHODLARI"
   ]
  },
  {
   "cell_type": "code",
   "execution_count": 31,
   "id": "57b5b7ba-5151-46dc-b9b1-4361d6cc09c4",
   "metadata": {},
   "outputs": [
    {
     "data": {
      "text/plain": [
       "array([ 0, 14,  4, 17, 26,  6, 12,  5, 14,  0, 22, 20,  8, 28, 29,  3,  7,\n",
       "       20, 19,  0, 15,  1, 12, 17,  6])"
      ]
     },
     "execution_count": 31,
     "metadata": {},
     "output_type": "execute_result"
    }
   ],
   "source": [
    "yeniDizi = np.random.randint(0,30,25)\n",
    "yeniDizi"
   ]
  },
  {
   "cell_type": "code",
   "execution_count": 32,
   "id": "afcc3d82-c90f-418c-994a-065712e81530",
   "metadata": {},
   "outputs": [
    {
     "data": {
      "text/plain": [
       "array([[ 0, 14,  4, 17, 26],\n",
       "       [ 6, 12,  5, 14,  0],\n",
       "       [22, 20,  8, 28, 29],\n",
       "       [ 3,  7, 20, 19,  0],\n",
       "       [15,  1, 12, 17,  6]])"
      ]
     },
     "execution_count": 32,
     "metadata": {},
     "output_type": "execute_result"
    }
   ],
   "source": [
    "yeniDizi.reshape(5,5)"
   ]
  },
  {
   "cell_type": "code",
   "execution_count": 33,
   "id": "055c8000-7fa2-4ad8-8d61-287e699a0bc9",
   "metadata": {},
   "outputs": [],
   "source": [
    "# reshape yapmak istediğimizde dizi eleman sayısının çarpanlarına göre bir değer ile matris yapabiliriz.\n",
    "#örneğin 10 ise 5,5 bir matris ya da 5,2 olabilir ancak 30 elemanlı bir diziyi 5,5 bölemeyiz."
   ]
  },
  {
   "cell_type": "code",
   "execution_count": 34,
   "id": "6357e254-46b5-41e3-a1f8-54268b04539b",
   "metadata": {},
   "outputs": [
    {
     "data": {
      "text/plain": [
       "29"
      ]
     },
     "execution_count": 34,
     "metadata": {},
     "output_type": "execute_result"
    }
   ],
   "source": [
    "yeniDizi.max()"
   ]
  },
  {
   "cell_type": "code",
   "execution_count": 35,
   "id": "c49b3420-a492-4ef7-a305-8f24b2f98403",
   "metadata": {},
   "outputs": [],
   "source": [
    "#max değeri bazen görmek zordur büyük veri setleri ile çalışırken özellikle bu methodlar çok işimize yarar."
   ]
  },
  {
   "cell_type": "code",
   "execution_count": 36,
   "id": "06ffbad1-0032-49d4-9541-6fd39e483a76",
   "metadata": {},
   "outputs": [
    {
     "data": {
      "text/plain": [
       "0"
      ]
     },
     "execution_count": 36,
     "metadata": {},
     "output_type": "execute_result"
    }
   ],
   "source": [
    "yeniDizi.min()"
   ]
  },
  {
   "cell_type": "code",
   "execution_count": 37,
   "id": "b1da6b00-656c-4201-839a-e5078c65c114",
   "metadata": {},
   "outputs": [
    {
     "data": {
      "text/plain": [
       "14"
      ]
     },
     "execution_count": 37,
     "metadata": {},
     "output_type": "execute_result"
    }
   ],
   "source": [
    "yeniDizi.argmax()"
   ]
  },
  {
   "cell_type": "code",
   "execution_count": 39,
   "id": "5e0322e9-430a-4b1b-aaa8-5dd1d246e0e3",
   "metadata": {},
   "outputs": [],
   "source": [
    "#en büyük değerin kaçıncı indexte olduğunu bulabiliyorum.\n",
    "# argmin de aynı işlemi minimum değer için yapar."
   ]
  },
  {
   "cell_type": "markdown",
   "id": "1505d789-23b1-4bd8-b421-86edcf70a322",
   "metadata": {},
   "source": [
    "## PANDAS SERİES"
   ]
  },
  {
   "cell_type": "code",
   "execution_count": 6,
   "id": "429ee723-54e8-472f-9bcd-d143812cc704",
   "metadata": {},
   "outputs": [],
   "source": [
    "import pandas as pd\n",
    "import numpy as np"
   ]
  },
  {
   "cell_type": "code",
   "execution_count": 7,
   "id": "904a98f1-e93c-4d44-8db1-96a5a2abea3e",
   "metadata": {},
   "outputs": [],
   "source": [
    "benimSozluk = {\"Saadet\": 20, \"Zeynep\": 24, \"Aslı\": 30}"
   ]
  },
  {
   "cell_type": "code",
   "execution_count": 8,
   "id": "2b58d08b-38a0-4628-ac1d-35eb32587e76",
   "metadata": {},
   "outputs": [
    {
     "data": {
      "text/plain": [
       "pandas.core.series.Series"
      ]
     },
     "execution_count": 8,
     "metadata": {},
     "output_type": "execute_result"
    }
   ],
   "source": [
    "type(pd.Series(benimSozluk))"
   ]
  },
  {
   "cell_type": "code",
   "execution_count": 9,
   "id": "eab924dd-5300-4cd7-8856-d0e79927b440",
   "metadata": {},
   "outputs": [
    {
     "data": {
      "text/plain": [
       "Saadet    20\n",
       "Zeynep    24\n",
       "Aslı      30\n",
       "dtype: int64"
      ]
     },
     "execution_count": 9,
     "metadata": {},
     "output_type": "execute_result"
    }
   ],
   "source": [
    "pd.Series(benimSozluk)"
   ]
  },
  {
   "cell_type": "code",
   "execution_count": 10,
   "id": "5cacccff-e997-41ba-b81a-de0419aa7e8d",
   "metadata": {},
   "outputs": [],
   "source": [
    "yaslar = [20,30,40]\n",
    "ısımler = [\"Saadet\",\"Zeynep\",\"Aslı\"]"
   ]
  },
  {
   "cell_type": "code",
   "execution_count": 11,
   "id": "a1412ce5-a264-4d2b-aee6-c888e0ceee3b",
   "metadata": {},
   "outputs": [
    {
     "data": {
      "text/plain": [
       "0    20\n",
       "1    30\n",
       "2    40\n",
       "dtype: int64"
      ]
     },
     "execution_count": 11,
     "metadata": {},
     "output_type": "execute_result"
    }
   ],
   "source": [
    "pd.Series(yaslar)"
   ]
  },
  {
   "cell_type": "code",
   "execution_count": 12,
   "id": "ec63b756-9ba4-4dce-83dd-5af2ba8e776d",
   "metadata": {},
   "outputs": [
    {
     "data": {
      "text/plain": [
       "Saadet    20\n",
       "Zeynep    30\n",
       "Aslı      40\n",
       "dtype: int64"
      ]
     },
     "execution_count": 12,
     "metadata": {},
     "output_type": "execute_result"
    }
   ],
   "source": [
    "pd.Series(yaslar,ısımler)"
   ]
  },
  {
   "cell_type": "code",
   "execution_count": 13,
   "id": "9b56a516-5727-4928-bba5-af8c8cb8172c",
   "metadata": {},
   "outputs": [
    {
     "data": {
      "text/plain": [
       "Saadet    20\n",
       "Zeynep    30\n",
       "Aslı      40\n",
       "dtype: int64"
      ]
     },
     "execution_count": 13,
     "metadata": {},
     "output_type": "execute_result"
    }
   ],
   "source": [
    "pd.Series(data = yaslar, index = ısımler)"
   ]
  },
  {
   "cell_type": "code",
   "execution_count": 14,
   "id": "4e1b7e0a-e0d9-4325-b61e-63fb261fa17c",
   "metadata": {},
   "outputs": [
    {
     "data": {
      "text/plain": [
       "array([50, 40, 30])"
      ]
     },
     "execution_count": 14,
     "metadata": {},
     "output_type": "execute_result"
    }
   ],
   "source": [
    "numpyDizi = np.array([50,40,30])\n",
    "numpyDizi"
   ]
  },
  {
   "cell_type": "code",
   "execution_count": 15,
   "id": "b0b57f61-221d-4968-8220-8c50ef7c3c85",
   "metadata": {},
   "outputs": [
    {
     "data": {
      "text/plain": [
       "0    50\n",
       "1    40\n",
       "2    30\n",
       "dtype: int32"
      ]
     },
     "execution_count": 15,
     "metadata": {},
     "output_type": "execute_result"
    }
   ],
   "source": [
    "pd.Series(numpyDizi)"
   ]
  },
  {
   "cell_type": "code",
   "execution_count": 16,
   "id": "bffe3cfc-5798-4bba-9d30-01440e15616f",
   "metadata": {},
   "outputs": [
    {
     "data": {
      "text/plain": [
       "(0    Saadet\n",
       " 1    Zeynep\n",
       " 2      Aslı\n",
       " dtype: object,\n",
       " [1, 2, 3])"
      ]
     },
     "execution_count": 16,
     "metadata": {},
     "output_type": "execute_result"
    }
   ],
   "source": [
    "pd.Series([\"Saadet\",\"Zeynep\",\"Aslı\"]),[1,2,3]"
   ]
  },
  {
   "cell_type": "markdown",
   "id": "9fc0c4e5-c95f-4846-94cc-5ef7b36803f2",
   "metadata": {},
   "source": [
    "## DATAFRAME"
   ]
  },
  {
   "cell_type": "code",
   "execution_count": 17,
   "id": "a3133184-08d5-4ce8-ab37-2fdd080e9af0",
   "metadata": {},
   "outputs": [],
   "source": [
    "data = np.random.randn(4,3)"
   ]
  },
  {
   "cell_type": "code",
   "execution_count": 18,
   "id": "bf6b0390-b7d5-4f46-b6d0-c63237cb3c7e",
   "metadata": {},
   "outputs": [
    {
     "data": {
      "text/plain": [
       "array([[-0.60705571, -1.81196509,  0.01170398],\n",
       "       [ 1.40346959,  0.15950401,  2.73686842],\n",
       "       [-0.811335  ,  0.26380097,  0.98034908],\n",
       "       [-0.70227973, -0.85466669,  0.04423462]])"
      ]
     },
     "execution_count": 18,
     "metadata": {},
     "output_type": "execute_result"
    }
   ],
   "source": [
    "data"
   ]
  },
  {
   "cell_type": "code",
   "execution_count": 19,
   "id": "b7f12070-6e4f-4995-a479-a557be912d40",
   "metadata": {},
   "outputs": [],
   "source": [
    "dataFrame = pd.DataFrame(data)"
   ]
  },
  {
   "cell_type": "code",
   "execution_count": 20,
   "id": "ec8b7da9-3dfe-454c-a540-70211491e02a",
   "metadata": {},
   "outputs": [
    {
     "data": {
      "text/plain": [
       "0   -0.607056\n",
       "1    1.403470\n",
       "2   -0.811335\n",
       "3   -0.702280\n",
       "Name: 0, dtype: float64"
      ]
     },
     "execution_count": 20,
     "metadata": {},
     "output_type": "execute_result"
    }
   ],
   "source": [
    "dataFrame[0] #ilk kolonu getirir."
   ]
  },
  {
   "cell_type": "code",
   "execution_count": 21,
   "id": "02189927-9392-454b-b114-178b8c35130f",
   "metadata": {},
   "outputs": [
    {
     "data": {
      "text/html": [
       "<div>\n",
       "<style scoped>\n",
       "    .dataframe tbody tr th:only-of-type {\n",
       "        vertical-align: middle;\n",
       "    }\n",
       "\n",
       "    .dataframe tbody tr th {\n",
       "        vertical-align: top;\n",
       "    }\n",
       "\n",
       "    .dataframe thead th {\n",
       "        text-align: right;\n",
       "    }\n",
       "</style>\n",
       "<table border=\"1\" class=\"dataframe\">\n",
       "  <thead>\n",
       "    <tr style=\"text-align: right;\">\n",
       "      <th></th>\n",
       "      <th>kolon 1</th>\n",
       "      <th>kolon 2</th>\n",
       "      <th>kolon 3</th>\n",
       "    </tr>\n",
       "  </thead>\n",
       "  <tbody>\n",
       "    <tr>\n",
       "      <th>Seri 1</th>\n",
       "      <td>-0.607056</td>\n",
       "      <td>-1.811965</td>\n",
       "      <td>0.011704</td>\n",
       "    </tr>\n",
       "    <tr>\n",
       "      <th>Seri 2</th>\n",
       "      <td>1.403470</td>\n",
       "      <td>0.159504</td>\n",
       "      <td>2.736868</td>\n",
       "    </tr>\n",
       "    <tr>\n",
       "      <th>Seri 3</th>\n",
       "      <td>-0.811335</td>\n",
       "      <td>0.263801</td>\n",
       "      <td>0.980349</td>\n",
       "    </tr>\n",
       "    <tr>\n",
       "      <th>Seri 4</th>\n",
       "      <td>-0.702280</td>\n",
       "      <td>-0.854667</td>\n",
       "      <td>0.044235</td>\n",
       "    </tr>\n",
       "  </tbody>\n",
       "</table>\n",
       "</div>"
      ],
      "text/plain": [
       "         kolon 1   kolon 2   kolon 3\n",
       "Seri 1 -0.607056 -1.811965  0.011704\n",
       "Seri 2  1.403470  0.159504  2.736868\n",
       "Seri 3 -0.811335  0.263801  0.980349\n",
       "Seri 4 -0.702280 -0.854667  0.044235"
      ]
     },
     "execution_count": 21,
     "metadata": {},
     "output_type": "execute_result"
    }
   ],
   "source": [
    "yeniDataFrame = pd.yeniDataFrame = pd.DataFrame(data,index = [\"Seri 1\",\"Seri 2\",\"Seri 3\",\"Seri 4\"],columns = [\"kolon 1\",\"kolon 2\",\"kolon 3\"])\n",
    "yeniDataFrame"
   ]
  },
  {
   "cell_type": "code",
   "execution_count": 22,
   "id": "b74749d2-c481-47e9-9567-9bcc41da58da",
   "metadata": {},
   "outputs": [
    {
     "data": {
      "text/plain": [
       "Seri 1   -1.811965\n",
       "Seri 2    0.159504\n",
       "Seri 3    0.263801\n",
       "Seri 4   -0.854667\n",
       "Name: kolon 2, dtype: float64"
      ]
     },
     "execution_count": 22,
     "metadata": {},
     "output_type": "execute_result"
    }
   ],
   "source": [
    "yeniDataFrame[\"kolon 2\"] # kolon çağırmak için de bu kod bloğunu kullanırım."
   ]
  },
  {
   "cell_type": "code",
   "execution_count": 23,
   "id": "c256b8fb-4f59-4108-b429-d072f0aad961",
   "metadata": {},
   "outputs": [
    {
     "data": {
      "text/html": [
       "<div>\n",
       "<style scoped>\n",
       "    .dataframe tbody tr th:only-of-type {\n",
       "        vertical-align: middle;\n",
       "    }\n",
       "\n",
       "    .dataframe tbody tr th {\n",
       "        vertical-align: top;\n",
       "    }\n",
       "\n",
       "    .dataframe thead th {\n",
       "        text-align: right;\n",
       "    }\n",
       "</style>\n",
       "<table border=\"1\" class=\"dataframe\">\n",
       "  <thead>\n",
       "    <tr style=\"text-align: right;\">\n",
       "      <th></th>\n",
       "      <th>kolon 1</th>\n",
       "      <th>kolon 2</th>\n",
       "    </tr>\n",
       "  </thead>\n",
       "  <tbody>\n",
       "    <tr>\n",
       "      <th>Seri 1</th>\n",
       "      <td>-0.607056</td>\n",
       "      <td>-1.811965</td>\n",
       "    </tr>\n",
       "    <tr>\n",
       "      <th>Seri 2</th>\n",
       "      <td>1.403470</td>\n",
       "      <td>0.159504</td>\n",
       "    </tr>\n",
       "    <tr>\n",
       "      <th>Seri 3</th>\n",
       "      <td>-0.811335</td>\n",
       "      <td>0.263801</td>\n",
       "    </tr>\n",
       "    <tr>\n",
       "      <th>Seri 4</th>\n",
       "      <td>-0.702280</td>\n",
       "      <td>-0.854667</td>\n",
       "    </tr>\n",
       "  </tbody>\n",
       "</table>\n",
       "</div>"
      ],
      "text/plain": [
       "         kolon 1   kolon 2\n",
       "Seri 1 -0.607056 -1.811965\n",
       "Seri 2  1.403470  0.159504\n",
       "Seri 3 -0.811335  0.263801\n",
       "Seri 4 -0.702280 -0.854667"
      ]
     },
     "execution_count": 23,
     "metadata": {},
     "output_type": "execute_result"
    }
   ],
   "source": [
    "yeniDataFrame[[\"kolon 1\",\"kolon 2\"]] # birden fazla kolon çağırmak istediğimde liste içi liste olarak yazarım."
   ]
  },
  {
   "cell_type": "code",
   "execution_count": 24,
   "id": "a0131c40-20d3-4a21-9ac5-7cf62bc574eb",
   "metadata": {},
   "outputs": [
    {
     "data": {
      "text/html": [
       "<div>\n",
       "<style scoped>\n",
       "    .dataframe tbody tr th:only-of-type {\n",
       "        vertical-align: middle;\n",
       "    }\n",
       "\n",
       "    .dataframe tbody tr th {\n",
       "        vertical-align: top;\n",
       "    }\n",
       "\n",
       "    .dataframe thead th {\n",
       "        text-align: right;\n",
       "    }\n",
       "</style>\n",
       "<table border=\"1\" class=\"dataframe\">\n",
       "  <thead>\n",
       "    <tr style=\"text-align: right;\">\n",
       "      <th></th>\n",
       "      <th>kolon 1</th>\n",
       "      <th>kolon 2</th>\n",
       "      <th>kolon 3</th>\n",
       "    </tr>\n",
       "  </thead>\n",
       "  <tbody>\n",
       "    <tr>\n",
       "      <th>Seri 1</th>\n",
       "      <td>-0.607056</td>\n",
       "      <td>-1.811965</td>\n",
       "      <td>0.011704</td>\n",
       "    </tr>\n",
       "    <tr>\n",
       "      <th>Seri 2</th>\n",
       "      <td>1.403470</td>\n",
       "      <td>0.159504</td>\n",
       "      <td>2.736868</td>\n",
       "    </tr>\n",
       "    <tr>\n",
       "      <th>Seri 3</th>\n",
       "      <td>-0.811335</td>\n",
       "      <td>0.263801</td>\n",
       "      <td>0.980349</td>\n",
       "    </tr>\n",
       "    <tr>\n",
       "      <th>Seri 4</th>\n",
       "      <td>-0.702280</td>\n",
       "      <td>-0.854667</td>\n",
       "      <td>0.044235</td>\n",
       "    </tr>\n",
       "  </tbody>\n",
       "</table>\n",
       "</div>"
      ],
      "text/plain": [
       "         kolon 1   kolon 2   kolon 3\n",
       "Seri 1 -0.607056 -1.811965  0.011704\n",
       "Seri 2  1.403470  0.159504  2.736868\n",
       "Seri 3 -0.811335  0.263801  0.980349\n",
       "Seri 4 -0.702280 -0.854667  0.044235"
      ]
     },
     "execution_count": 24,
     "metadata": {},
     "output_type": "execute_result"
    }
   ],
   "source": [
    "yeniDataFrame"
   ]
  },
  {
   "cell_type": "code",
   "execution_count": 25,
   "id": "17725187-eaf6-4e88-94a5-a70f95ca473c",
   "metadata": {},
   "outputs": [],
   "source": [
    "# yeniDataFrame[\"seri 1\"] dersek hata alırız"
   ]
  },
  {
   "cell_type": "code",
   "execution_count": 26,
   "id": "bd065a1e-0915-4c45-babf-09c4e194720f",
   "metadata": {},
   "outputs": [
    {
     "data": {
      "text/plain": [
       "kolon 1   -0.811335\n",
       "kolon 2    0.263801\n",
       "kolon 3    0.980349\n",
       "Name: Seri 3, dtype: float64"
      ]
     },
     "execution_count": 26,
     "metadata": {},
     "output_type": "execute_result"
    }
   ],
   "source": [
    "yeniDataFrame.loc[\"Seri 3\"] # böyle yaparak seri için tüm kolonları döndürmüş oluruz."
   ]
  },
  {
   "cell_type": "code",
   "execution_count": 27,
   "id": "d76c7d43-3888-47e1-90cb-239edefff3ae",
   "metadata": {},
   "outputs": [
    {
     "data": {
      "text/plain": [
       "kolon 1   -0.811335\n",
       "kolon 2    0.263801\n",
       "kolon 3    0.980349\n",
       "Name: Seri 3, dtype: float64"
      ]
     },
     "execution_count": 27,
     "metadata": {},
     "output_type": "execute_result"
    }
   ],
   "source": [
    "yeniDataFrame.iloc[2] # iloc methodu ise bu işlemi index numarasına göre yapar."
   ]
  },
  {
   "cell_type": "code",
   "execution_count": 28,
   "id": "be8bdb66-4e94-4991-bc40-6e2594fb601f",
   "metadata": {},
   "outputs": [
    {
     "data": {
      "text/html": [
       "<div>\n",
       "<style scoped>\n",
       "    .dataframe tbody tr th:only-of-type {\n",
       "        vertical-align: middle;\n",
       "    }\n",
       "\n",
       "    .dataframe tbody tr th {\n",
       "        vertical-align: top;\n",
       "    }\n",
       "\n",
       "    .dataframe thead th {\n",
       "        text-align: right;\n",
       "    }\n",
       "</style>\n",
       "<table border=\"1\" class=\"dataframe\">\n",
       "  <thead>\n",
       "    <tr style=\"text-align: right;\">\n",
       "      <th></th>\n",
       "      <th>kolon 1</th>\n",
       "      <th>kolon 2</th>\n",
       "      <th>kolon 3</th>\n",
       "    </tr>\n",
       "  </thead>\n",
       "  <tbody>\n",
       "    <tr>\n",
       "      <th>Seri 1</th>\n",
       "      <td>-0.607056</td>\n",
       "      <td>-1.811965</td>\n",
       "      <td>0.011704</td>\n",
       "    </tr>\n",
       "    <tr>\n",
       "      <th>Seri 2</th>\n",
       "      <td>1.403470</td>\n",
       "      <td>0.159504</td>\n",
       "      <td>2.736868</td>\n",
       "    </tr>\n",
       "    <tr>\n",
       "      <th>Seri 3</th>\n",
       "      <td>-0.811335</td>\n",
       "      <td>0.263801</td>\n",
       "      <td>0.980349</td>\n",
       "    </tr>\n",
       "    <tr>\n",
       "      <th>Seri 4</th>\n",
       "      <td>-0.702280</td>\n",
       "      <td>-0.854667</td>\n",
       "      <td>0.044235</td>\n",
       "    </tr>\n",
       "  </tbody>\n",
       "</table>\n",
       "</div>"
      ],
      "text/plain": [
       "         kolon 1   kolon 2   kolon 3\n",
       "Seri 1 -0.607056 -1.811965  0.011704\n",
       "Seri 2  1.403470  0.159504  2.736868\n",
       "Seri 3 -0.811335  0.263801  0.980349\n",
       "Seri 4 -0.702280 -0.854667  0.044235"
      ]
     },
     "execution_count": 28,
     "metadata": {},
     "output_type": "execute_result"
    }
   ],
   "source": [
    "yeniDataFrame"
   ]
  },
  {
   "cell_type": "code",
   "execution_count": 30,
   "id": "68b717d7-c9a7-4c83-9210-84a113a8a8dd",
   "metadata": {},
   "outputs": [
    {
     "data": {
      "text/html": [
       "<div>\n",
       "<style scoped>\n",
       "    .dataframe tbody tr th:only-of-type {\n",
       "        vertical-align: middle;\n",
       "    }\n",
       "\n",
       "    .dataframe tbody tr th {\n",
       "        vertical-align: top;\n",
       "    }\n",
       "\n",
       "    .dataframe thead th {\n",
       "        text-align: right;\n",
       "    }\n",
       "</style>\n",
       "<table border=\"1\" class=\"dataframe\">\n",
       "  <thead>\n",
       "    <tr style=\"text-align: right;\">\n",
       "      <th></th>\n",
       "      <th>kolon 1</th>\n",
       "      <th>kolon 2</th>\n",
       "      <th>kolon 3</th>\n",
       "      <th>emeklilik yası</th>\n",
       "    </tr>\n",
       "  </thead>\n",
       "  <tbody>\n",
       "    <tr>\n",
       "      <th>Seri 1</th>\n",
       "      <td>-0.607056</td>\n",
       "      <td>-1.811965</td>\n",
       "      <td>0.011704</td>\n",
       "      <td>-2.419021</td>\n",
       "    </tr>\n",
       "    <tr>\n",
       "      <th>Seri 2</th>\n",
       "      <td>1.403470</td>\n",
       "      <td>0.159504</td>\n",
       "      <td>2.736868</td>\n",
       "      <td>1.562974</td>\n",
       "    </tr>\n",
       "    <tr>\n",
       "      <th>Seri 3</th>\n",
       "      <td>-0.811335</td>\n",
       "      <td>0.263801</td>\n",
       "      <td>0.980349</td>\n",
       "      <td>-0.547534</td>\n",
       "    </tr>\n",
       "    <tr>\n",
       "      <th>Seri 4</th>\n",
       "      <td>-0.702280</td>\n",
       "      <td>-0.854667</td>\n",
       "      <td>0.044235</td>\n",
       "      <td>-1.556946</td>\n",
       "    </tr>\n",
       "  </tbody>\n",
       "</table>\n",
       "</div>"
      ],
      "text/plain": [
       "         kolon 1   kolon 2   kolon 3  emeklilik yası\n",
       "Seri 1 -0.607056 -1.811965  0.011704       -2.419021\n",
       "Seri 2  1.403470  0.159504  2.736868        1.562974\n",
       "Seri 3 -0.811335  0.263801  0.980349       -0.547534\n",
       "Seri 4 -0.702280 -0.854667  0.044235       -1.556946"
      ]
     },
     "execution_count": 30,
     "metadata": {},
     "output_type": "execute_result"
    }
   ],
   "source": [
    "yeniDataFrame [\"emeklilik yası\"] = yeniDataFrame[\"kolon 1\"] + yeniDataFrame[\"kolon 2\"]\n",
    "yeniDataFrame"
   ]
  },
  {
   "cell_type": "code",
   "execution_count": 31,
   "id": "89eeb63a-84f9-4f99-918e-2a6aebec4f36",
   "metadata": {},
   "outputs": [],
   "source": [
    "# Böyle yaparak tabloma yeni bir kolon ekleyebilirim"
   ]
  },
  {
   "cell_type": "code",
   "execution_count": 33,
   "id": "7e5f7bfc-db83-4b39-8c73-3fe857795103",
   "metadata": {},
   "outputs": [
    {
     "data": {
      "text/html": [
       "<div>\n",
       "<style scoped>\n",
       "    .dataframe tbody tr th:only-of-type {\n",
       "        vertical-align: middle;\n",
       "    }\n",
       "\n",
       "    .dataframe tbody tr th {\n",
       "        vertical-align: top;\n",
       "    }\n",
       "\n",
       "    .dataframe thead th {\n",
       "        text-align: right;\n",
       "    }\n",
       "</style>\n",
       "<table border=\"1\" class=\"dataframe\">\n",
       "  <thead>\n",
       "    <tr style=\"text-align: right;\">\n",
       "      <th></th>\n",
       "      <th>kolon 1</th>\n",
       "      <th>kolon 2</th>\n",
       "      <th>kolon 3</th>\n",
       "    </tr>\n",
       "  </thead>\n",
       "  <tbody>\n",
       "    <tr>\n",
       "      <th>Seri 1</th>\n",
       "      <td>-0.607056</td>\n",
       "      <td>-1.811965</td>\n",
       "      <td>0.011704</td>\n",
       "    </tr>\n",
       "    <tr>\n",
       "      <th>Seri 2</th>\n",
       "      <td>1.403470</td>\n",
       "      <td>0.159504</td>\n",
       "      <td>2.736868</td>\n",
       "    </tr>\n",
       "    <tr>\n",
       "      <th>Seri 3</th>\n",
       "      <td>-0.811335</td>\n",
       "      <td>0.263801</td>\n",
       "      <td>0.980349</td>\n",
       "    </tr>\n",
       "    <tr>\n",
       "      <th>Seri 4</th>\n",
       "      <td>-0.702280</td>\n",
       "      <td>-0.854667</td>\n",
       "      <td>0.044235</td>\n",
       "    </tr>\n",
       "  </tbody>\n",
       "</table>\n",
       "</div>"
      ],
      "text/plain": [
       "         kolon 1   kolon 2   kolon 3\n",
       "Seri 1 -0.607056 -1.811965  0.011704\n",
       "Seri 2  1.403470  0.159504  2.736868\n",
       "Seri 3 -0.811335  0.263801  0.980349\n",
       "Seri 4 -0.702280 -0.854667  0.044235"
      ]
     },
     "execution_count": 33,
     "metadata": {},
     "output_type": "execute_result"
    }
   ],
   "source": [
    "yeniDataFrame.drop(\"emeklilik yası\",axis = 1)"
   ]
  },
  {
   "cell_type": "code",
   "execution_count": 34,
   "id": "5d58b3da-c955-46eb-8080-db3777e726ac",
   "metadata": {},
   "outputs": [],
   "source": [
    "# Kolon için axis = 1 kullanılırken row için axis = 0 olacaktır."
   ]
  },
  {
   "cell_type": "code",
   "execution_count": 35,
   "id": "675ea5ed-adf8-4177-8a02-c7286bc3788e",
   "metadata": {},
   "outputs": [
    {
     "data": {
      "text/html": [
       "<div>\n",
       "<style scoped>\n",
       "    .dataframe tbody tr th:only-of-type {\n",
       "        vertical-align: middle;\n",
       "    }\n",
       "\n",
       "    .dataframe tbody tr th {\n",
       "        vertical-align: top;\n",
       "    }\n",
       "\n",
       "    .dataframe thead th {\n",
       "        text-align: right;\n",
       "    }\n",
       "</style>\n",
       "<table border=\"1\" class=\"dataframe\">\n",
       "  <thead>\n",
       "    <tr style=\"text-align: right;\">\n",
       "      <th></th>\n",
       "      <th>kolon 1</th>\n",
       "      <th>kolon 2</th>\n",
       "      <th>kolon 3</th>\n",
       "    </tr>\n",
       "  </thead>\n",
       "  <tbody>\n",
       "    <tr>\n",
       "      <th>Seri 1</th>\n",
       "      <td>-0.607056</td>\n",
       "      <td>-1.811965</td>\n",
       "      <td>0.011704</td>\n",
       "    </tr>\n",
       "    <tr>\n",
       "      <th>Seri 2</th>\n",
       "      <td>1.403470</td>\n",
       "      <td>0.159504</td>\n",
       "      <td>2.736868</td>\n",
       "    </tr>\n",
       "    <tr>\n",
       "      <th>Seri 3</th>\n",
       "      <td>-0.811335</td>\n",
       "      <td>0.263801</td>\n",
       "      <td>0.980349</td>\n",
       "    </tr>\n",
       "    <tr>\n",
       "      <th>Seri 4</th>\n",
       "      <td>-0.702280</td>\n",
       "      <td>-0.854667</td>\n",
       "      <td>0.044235</td>\n",
       "    </tr>\n",
       "  </tbody>\n",
       "</table>\n",
       "</div>"
      ],
      "text/plain": [
       "         kolon 1   kolon 2   kolon 3\n",
       "Seri 1 -0.607056 -1.811965  0.011704\n",
       "Seri 2  1.403470  0.159504  2.736868\n",
       "Seri 3 -0.811335  0.263801  0.980349\n",
       "Seri 4 -0.702280 -0.854667  0.044235"
      ]
     },
     "execution_count": 35,
     "metadata": {},
     "output_type": "execute_result"
    }
   ],
   "source": [
    "yeniDataFrame.drop(\"emeklilik yası\", axis = 1, inplace = True)\n",
    "yeniDataFrame"
   ]
  },
  {
   "cell_type": "code",
   "execution_count": 36,
   "id": "94d19c59-2442-40dc-88a9-662c4be7b70b",
   "metadata": {},
   "outputs": [],
   "source": [
    "#kalıcı olarak silmek istersem inplace = true derim."
   ]
  },
  {
   "cell_type": "code",
   "execution_count": 38,
   "id": "c7cd13fc-4688-4050-964d-d2b230846c76",
   "metadata": {},
   "outputs": [
    {
     "data": {
      "text/plain": [
       "0.26380097037657224"
      ]
     },
     "execution_count": 38,
     "metadata": {},
     "output_type": "execute_result"
    }
   ],
   "source": [
    "yeniDataFrame.loc[\"Seri 3\", \"kolon 2\"]"
   ]
  },
  {
   "cell_type": "code",
   "execution_count": 39,
   "id": "5cd3fcc8-2496-4248-b8ce-c8dd4a1606c3",
   "metadata": {},
   "outputs": [],
   "source": [
    "# Böylelilkle de tablo içince ulaşmak istediğim değere kolaylıkla ulaşabilirim."
   ]
  },
  {
   "cell_type": "code",
   "execution_count": 40,
   "id": "4f9b45b2-55e6-4043-8fe5-b6a90659555f",
   "metadata": {},
   "outputs": [
    {
     "data": {
      "text/html": [
       "<div>\n",
       "<style scoped>\n",
       "    .dataframe tbody tr th:only-of-type {\n",
       "        vertical-align: middle;\n",
       "    }\n",
       "\n",
       "    .dataframe tbody tr th {\n",
       "        vertical-align: top;\n",
       "    }\n",
       "\n",
       "    .dataframe thead th {\n",
       "        text-align: right;\n",
       "    }\n",
       "</style>\n",
       "<table border=\"1\" class=\"dataframe\">\n",
       "  <thead>\n",
       "    <tr style=\"text-align: right;\">\n",
       "      <th></th>\n",
       "      <th>kolon 1</th>\n",
       "      <th>kolon 2</th>\n",
       "      <th>kolon 3</th>\n",
       "    </tr>\n",
       "  </thead>\n",
       "  <tbody>\n",
       "    <tr>\n",
       "      <th>Seri 1</th>\n",
       "      <td>-0.607056</td>\n",
       "      <td>-1.811965</td>\n",
       "      <td>0.011704</td>\n",
       "    </tr>\n",
       "    <tr>\n",
       "      <th>Seri 2</th>\n",
       "      <td>1.403470</td>\n",
       "      <td>0.159504</td>\n",
       "      <td>2.736868</td>\n",
       "    </tr>\n",
       "    <tr>\n",
       "      <th>Seri 3</th>\n",
       "      <td>-0.811335</td>\n",
       "      <td>0.263801</td>\n",
       "      <td>0.980349</td>\n",
       "    </tr>\n",
       "    <tr>\n",
       "      <th>Seri 4</th>\n",
       "      <td>-0.702280</td>\n",
       "      <td>-0.854667</td>\n",
       "      <td>0.044235</td>\n",
       "    </tr>\n",
       "  </tbody>\n",
       "</table>\n",
       "</div>"
      ],
      "text/plain": [
       "         kolon 1   kolon 2   kolon 3\n",
       "Seri 1 -0.607056 -1.811965  0.011704\n",
       "Seri 2  1.403470  0.159504  2.736868\n",
       "Seri 3 -0.811335  0.263801  0.980349\n",
       "Seri 4 -0.702280 -0.854667  0.044235"
      ]
     },
     "execution_count": 40,
     "metadata": {},
     "output_type": "execute_result"
    }
   ],
   "source": [
    "yeniDataFrame"
   ]
  },
  {
   "cell_type": "code",
   "execution_count": 41,
   "id": "226fd314-234f-42da-8ebd-f725c3cef8c1",
   "metadata": {},
   "outputs": [
    {
     "data": {
      "text/html": [
       "<div>\n",
       "<style scoped>\n",
       "    .dataframe tbody tr th:only-of-type {\n",
       "        vertical-align: middle;\n",
       "    }\n",
       "\n",
       "    .dataframe tbody tr th {\n",
       "        vertical-align: top;\n",
       "    }\n",
       "\n",
       "    .dataframe thead th {\n",
       "        text-align: right;\n",
       "    }\n",
       "</style>\n",
       "<table border=\"1\" class=\"dataframe\">\n",
       "  <thead>\n",
       "    <tr style=\"text-align: right;\">\n",
       "      <th></th>\n",
       "      <th>index</th>\n",
       "      <th>kolon 1</th>\n",
       "      <th>kolon 2</th>\n",
       "      <th>kolon 3</th>\n",
       "    </tr>\n",
       "  </thead>\n",
       "  <tbody>\n",
       "    <tr>\n",
       "      <th>0</th>\n",
       "      <td>Seri 1</td>\n",
       "      <td>-0.607056</td>\n",
       "      <td>-1.811965</td>\n",
       "      <td>0.011704</td>\n",
       "    </tr>\n",
       "    <tr>\n",
       "      <th>1</th>\n",
       "      <td>Seri 2</td>\n",
       "      <td>1.403470</td>\n",
       "      <td>0.159504</td>\n",
       "      <td>2.736868</td>\n",
       "    </tr>\n",
       "    <tr>\n",
       "      <th>2</th>\n",
       "      <td>Seri 3</td>\n",
       "      <td>-0.811335</td>\n",
       "      <td>0.263801</td>\n",
       "      <td>0.980349</td>\n",
       "    </tr>\n",
       "    <tr>\n",
       "      <th>3</th>\n",
       "      <td>Seri 4</td>\n",
       "      <td>-0.702280</td>\n",
       "      <td>-0.854667</td>\n",
       "      <td>0.044235</td>\n",
       "    </tr>\n",
       "  </tbody>\n",
       "</table>\n",
       "</div>"
      ],
      "text/plain": [
       "    index   kolon 1   kolon 2   kolon 3\n",
       "0  Seri 1 -0.607056 -1.811965  0.011704\n",
       "1  Seri 2  1.403470  0.159504  2.736868\n",
       "2  Seri 3 -0.811335  0.263801  0.980349\n",
       "3  Seri 4 -0.702280 -0.854667  0.044235"
      ]
     },
     "execution_count": 41,
     "metadata": {},
     "output_type": "execute_result"
    }
   ],
   "source": [
    "yeniDataFrame.reset_index()"
   ]
  },
  {
   "cell_type": "code",
   "execution_count": 42,
   "id": "11fd9ae7-bff3-4b6f-a685-3e9e41b84da9",
   "metadata": {},
   "outputs": [],
   "source": [
    "# bunu diyerek index değerlerini görebiliriz."
   ]
  },
  {
   "cell_type": "code",
   "execution_count": 59,
   "id": "fea14a2c-342f-4dca-ae95-69192284fdd3",
   "metadata": {},
   "outputs": [],
   "source": [
    "ilkIndex = [\"Simpson\",\"Simpson\",\"Simpson\",\"South park\",\"South park\",\"South park\"]"
   ]
  },
  {
   "cell_type": "code",
   "execution_count": 60,
   "id": "c443f9fc-a59e-4909-bffa-44f3e10d496d",
   "metadata": {},
   "outputs": [],
   "source": [
    "icIndex = [\"Homer\",\"Bartmen\",\"Marge\",\"Cartmen\",\"Kenny\",\"Kyle\"]"
   ]
  },
  {
   "cell_type": "code",
   "execution_count": 61,
   "id": "440468c8-942b-461d-80a3-a75306e09a6e",
   "metadata": {},
   "outputs": [],
   "source": [
    "birlesikIndex = list(zip(ilkIndex,icIndex))"
   ]
  },
  {
   "cell_type": "code",
   "execution_count": 62,
   "id": "8b735742-6f68-4d7c-8755-bfde00fa58f4",
   "metadata": {},
   "outputs": [
    {
     "data": {
      "text/plain": [
       "[('Simpson', 'Homer'),\n",
       " ('Simpson', 'Bartmen'),\n",
       " ('Simpson', 'Marge'),\n",
       " ('South park', 'Cartmen'),\n",
       " ('South park', 'Kenny'),\n",
       " ('South park', 'Kyle')]"
      ]
     },
     "execution_count": 62,
     "metadata": {},
     "output_type": "execute_result"
    }
   ],
   "source": [
    "birlesikIndex"
   ]
  },
  {
   "cell_type": "code",
   "execution_count": 63,
   "id": "51277b90-4a05-4ff0-b511-644bad7d5884",
   "metadata": {},
   "outputs": [],
   "source": [
    "birlesikIndex = pd.MultiIndex.from_tuples(birlesikIndex)"
   ]
  },
  {
   "cell_type": "code",
   "execution_count": 64,
   "id": "3737a495-428c-4ac9-a875-25a0bd74e2e9",
   "metadata": {},
   "outputs": [
    {
     "data": {
      "text/plain": [
       "MultiIndex([(   'Simpson',   'Homer'),\n",
       "            (   'Simpson', 'Bartmen'),\n",
       "            (   'Simpson',   'Marge'),\n",
       "            ('South park', 'Cartmen'),\n",
       "            ('South park',   'Kenny'),\n",
       "            ('South park',    'Kyle')],\n",
       "           )"
      ]
     },
     "execution_count": 64,
     "metadata": {},
     "output_type": "execute_result"
    }
   ],
   "source": [
    "birlesikIndex"
   ]
  },
  {
   "cell_type": "code",
   "execution_count": 65,
   "id": "62cf7fb3-570d-41c7-85b0-9a47eccc1d7d",
   "metadata": {},
   "outputs": [
    {
     "data": {
      "text/plain": [
       "[[40, 'A'], [30, 'B'], [20, 'C'], [9, 'D'], [10, 'E'], [12, 'F']]"
      ]
     },
     "execution_count": 65,
     "metadata": {},
     "output_type": "execute_result"
    }
   ],
   "source": [
    "cizgiFilm = [[40,\"A\"],[30,\"B\"],[20,\"C\"],[9,\"D\"],[10,\"E\"],[12,\"F\"]]\n",
    "cizgiFilm"
   ]
  },
  {
   "cell_type": "code",
   "execution_count": 66,
   "id": "1bd42dcb-de5d-438c-bfb5-1e8c9603a15d",
   "metadata": {},
   "outputs": [],
   "source": [
    "cizgiFilmNumpy = np.array(cizgiFilm)"
   ]
  },
  {
   "cell_type": "code",
   "execution_count": 67,
   "id": "981040b0-962a-478d-ac7c-410b06653ba9",
   "metadata": {},
   "outputs": [],
   "source": [
    "cizgiFilmDataFrame = pd.DataFrame(cizgiFilmNumpy,index = birlesikIndex,columns = [\"Yas\",\"Meslek\"] )"
   ]
  },
  {
   "cell_type": "code",
   "execution_count": 70,
   "id": "b622ee4e-df44-47c1-9676-7f9ee4069b1e",
   "metadata": {},
   "outputs": [
    {
     "data": {
      "text/html": [
       "<div>\n",
       "<style scoped>\n",
       "    .dataframe tbody tr th:only-of-type {\n",
       "        vertical-align: middle;\n",
       "    }\n",
       "\n",
       "    .dataframe tbody tr th {\n",
       "        vertical-align: top;\n",
       "    }\n",
       "\n",
       "    .dataframe thead th {\n",
       "        text-align: right;\n",
       "    }\n",
       "</style>\n",
       "<table border=\"1\" class=\"dataframe\">\n",
       "  <thead>\n",
       "    <tr style=\"text-align: right;\">\n",
       "      <th></th>\n",
       "      <th></th>\n",
       "      <th>Yas</th>\n",
       "      <th>Meslek</th>\n",
       "    </tr>\n",
       "  </thead>\n",
       "  <tbody>\n",
       "    <tr>\n",
       "      <th rowspan=\"3\" valign=\"top\">Simpson</th>\n",
       "      <th>Homer</th>\n",
       "      <td>40</td>\n",
       "      <td>A</td>\n",
       "    </tr>\n",
       "    <tr>\n",
       "      <th>Bartmen</th>\n",
       "      <td>30</td>\n",
       "      <td>B</td>\n",
       "    </tr>\n",
       "    <tr>\n",
       "      <th>Marge</th>\n",
       "      <td>20</td>\n",
       "      <td>C</td>\n",
       "    </tr>\n",
       "    <tr>\n",
       "      <th rowspan=\"3\" valign=\"top\">South park</th>\n",
       "      <th>Cartmen</th>\n",
       "      <td>9</td>\n",
       "      <td>D</td>\n",
       "    </tr>\n",
       "    <tr>\n",
       "      <th>Kenny</th>\n",
       "      <td>10</td>\n",
       "      <td>E</td>\n",
       "    </tr>\n",
       "    <tr>\n",
       "      <th>Kyle</th>\n",
       "      <td>12</td>\n",
       "      <td>F</td>\n",
       "    </tr>\n",
       "  </tbody>\n",
       "</table>\n",
       "</div>"
      ],
      "text/plain": [
       "                   Yas Meslek\n",
       "Simpson    Homer    40      A\n",
       "           Bartmen  30      B\n",
       "           Marge    20      C\n",
       "South park Cartmen   9      D\n",
       "           Kenny    10      E\n",
       "           Kyle     12      F"
      ]
     },
     "execution_count": 70,
     "metadata": {},
     "output_type": "execute_result"
    }
   ],
   "source": [
    "cizgiFilmDataFrame"
   ]
  },
  {
   "cell_type": "code",
   "execution_count": 69,
   "id": "c5a8a837-3fb0-4d3e-9128-a445888e7925",
   "metadata": {},
   "outputs": [
    {
     "data": {
      "text/html": [
       "<div>\n",
       "<style scoped>\n",
       "    .dataframe tbody tr th:only-of-type {\n",
       "        vertical-align: middle;\n",
       "    }\n",
       "\n",
       "    .dataframe tbody tr th {\n",
       "        vertical-align: top;\n",
       "    }\n",
       "\n",
       "    .dataframe thead th {\n",
       "        text-align: right;\n",
       "    }\n",
       "</style>\n",
       "<table border=\"1\" class=\"dataframe\">\n",
       "  <thead>\n",
       "    <tr style=\"text-align: right;\">\n",
       "      <th></th>\n",
       "      <th>Yas</th>\n",
       "      <th>Meslek</th>\n",
       "    </tr>\n",
       "  </thead>\n",
       "  <tbody>\n",
       "    <tr>\n",
       "      <th>Homer</th>\n",
       "      <td>40</td>\n",
       "      <td>A</td>\n",
       "    </tr>\n",
       "    <tr>\n",
       "      <th>Bartmen</th>\n",
       "      <td>30</td>\n",
       "      <td>B</td>\n",
       "    </tr>\n",
       "    <tr>\n",
       "      <th>Marge</th>\n",
       "      <td>20</td>\n",
       "      <td>C</td>\n",
       "    </tr>\n",
       "  </tbody>\n",
       "</table>\n",
       "</div>"
      ],
      "text/plain": [
       "        Yas Meslek\n",
       "Homer    40      A\n",
       "Bartmen  30      B\n",
       "Marge    20      C"
      ]
     },
     "execution_count": 69,
     "metadata": {},
     "output_type": "execute_result"
    }
   ],
   "source": [
    "cizgiFilmDataFrame.loc[\"Simpson\"]"
   ]
  },
  {
   "cell_type": "code",
   "execution_count": 71,
   "id": "1a6eae6d-ace3-401f-b72d-ef8cbb33efb3",
   "metadata": {},
   "outputs": [
    {
     "data": {
      "text/html": [
       "<div>\n",
       "<style scoped>\n",
       "    .dataframe tbody tr th:only-of-type {\n",
       "        vertical-align: middle;\n",
       "    }\n",
       "\n",
       "    .dataframe tbody tr th {\n",
       "        vertical-align: top;\n",
       "    }\n",
       "\n",
       "    .dataframe thead th {\n",
       "        text-align: right;\n",
       "    }\n",
       "</style>\n",
       "<table border=\"1\" class=\"dataframe\">\n",
       "  <thead>\n",
       "    <tr style=\"text-align: right;\">\n",
       "      <th></th>\n",
       "      <th>Yas</th>\n",
       "      <th>Meslek</th>\n",
       "    </tr>\n",
       "  </thead>\n",
       "  <tbody>\n",
       "    <tr>\n",
       "      <th>Cartmen</th>\n",
       "      <td>9</td>\n",
       "      <td>D</td>\n",
       "    </tr>\n",
       "    <tr>\n",
       "      <th>Kenny</th>\n",
       "      <td>10</td>\n",
       "      <td>E</td>\n",
       "    </tr>\n",
       "    <tr>\n",
       "      <th>Kyle</th>\n",
       "      <td>12</td>\n",
       "      <td>F</td>\n",
       "    </tr>\n",
       "  </tbody>\n",
       "</table>\n",
       "</div>"
      ],
      "text/plain": [
       "        Yas Meslek\n",
       "Cartmen   9      D\n",
       "Kenny    10      E\n",
       "Kyle     12      F"
      ]
     },
     "execution_count": 71,
     "metadata": {},
     "output_type": "execute_result"
    }
   ],
   "source": [
    "cizgiFilmDataFrame.loc[\"South park\"]"
   ]
  },
  {
   "cell_type": "markdown",
   "id": "5b77447f-6a25-47b0-a11a-f9412f647d8c",
   "metadata": {},
   "source": [
    "## Eksik Veriler"
   ]
  },
  {
   "cell_type": "code",
   "execution_count": 73,
   "id": "1560bed7-d7e8-4f87-8ad5-8c68e9063b05",
   "metadata": {},
   "outputs": [],
   "source": [
    "havaDurumuDataFrame = pd.DataFrame({\"İstanbul\": [30,29,np.nan],\"Ankara\": [26,np.nan,25],\"İzmir\": [30,40,35]})"
   ]
  },
  {
   "cell_type": "code",
   "execution_count": 74,
   "id": "4c69fad2-d464-480b-afd2-dcbf924a1113",
   "metadata": {},
   "outputs": [
    {
     "data": {
      "text/html": [
       "<div>\n",
       "<style scoped>\n",
       "    .dataframe tbody tr th:only-of-type {\n",
       "        vertical-align: middle;\n",
       "    }\n",
       "\n",
       "    .dataframe tbody tr th {\n",
       "        vertical-align: top;\n",
       "    }\n",
       "\n",
       "    .dataframe thead th {\n",
       "        text-align: right;\n",
       "    }\n",
       "</style>\n",
       "<table border=\"1\" class=\"dataframe\">\n",
       "  <thead>\n",
       "    <tr style=\"text-align: right;\">\n",
       "      <th></th>\n",
       "      <th>İstanbul</th>\n",
       "      <th>Ankara</th>\n",
       "      <th>İzmir</th>\n",
       "    </tr>\n",
       "  </thead>\n",
       "  <tbody>\n",
       "    <tr>\n",
       "      <th>0</th>\n",
       "      <td>30.0</td>\n",
       "      <td>26.0</td>\n",
       "      <td>30</td>\n",
       "    </tr>\n",
       "    <tr>\n",
       "      <th>1</th>\n",
       "      <td>29.0</td>\n",
       "      <td>NaN</td>\n",
       "      <td>40</td>\n",
       "    </tr>\n",
       "    <tr>\n",
       "      <th>2</th>\n",
       "      <td>NaN</td>\n",
       "      <td>25.0</td>\n",
       "      <td>35</td>\n",
       "    </tr>\n",
       "  </tbody>\n",
       "</table>\n",
       "</div>"
      ],
      "text/plain": [
       "   İstanbul  Ankara  İzmir\n",
       "0      30.0    26.0     30\n",
       "1      29.0     NaN     40\n",
       "2       NaN    25.0     35"
      ]
     },
     "execution_count": 74,
     "metadata": {},
     "output_type": "execute_result"
    }
   ],
   "source": [
    "havaDurumuDataFrame"
   ]
  },
  {
   "cell_type": "code",
   "execution_count": 75,
   "id": "3d5fa405-1ab5-4016-a5d9-f8ee5b84cbcb",
   "metadata": {},
   "outputs": [
    {
     "data": {
      "text/html": [
       "<div>\n",
       "<style scoped>\n",
       "    .dataframe tbody tr th:only-of-type {\n",
       "        vertical-align: middle;\n",
       "    }\n",
       "\n",
       "    .dataframe tbody tr th {\n",
       "        vertical-align: top;\n",
       "    }\n",
       "\n",
       "    .dataframe thead th {\n",
       "        text-align: right;\n",
       "    }\n",
       "</style>\n",
       "<table border=\"1\" class=\"dataframe\">\n",
       "  <thead>\n",
       "    <tr style=\"text-align: right;\">\n",
       "      <th></th>\n",
       "      <th>İstanbul</th>\n",
       "      <th>Ankara</th>\n",
       "      <th>İzmir</th>\n",
       "    </tr>\n",
       "  </thead>\n",
       "  <tbody>\n",
       "    <tr>\n",
       "      <th>0</th>\n",
       "      <td>30.0</td>\n",
       "      <td>26.0</td>\n",
       "      <td>30</td>\n",
       "    </tr>\n",
       "  </tbody>\n",
       "</table>\n",
       "</div>"
      ],
      "text/plain": [
       "   İstanbul  Ankara  İzmir\n",
       "0      30.0    26.0     30"
      ]
     },
     "execution_count": 75,
     "metadata": {},
     "output_type": "execute_result"
    }
   ],
   "source": [
    "havaDurumuDataFrame.dropna()"
   ]
  },
  {
   "cell_type": "code",
   "execution_count": 76,
   "id": "1783c7f9-fcd3-4695-9745-c004542a30e0",
   "metadata": {},
   "outputs": [],
   "source": [
    "# boş değer olan row tamamen çıkarılıyor."
   ]
  },
  {
   "cell_type": "code",
   "execution_count": 78,
   "id": "4986d995-bb08-4f7d-8e8e-ca8fc01c5097",
   "metadata": {},
   "outputs": [
    {
     "data": {
      "text/html": [
       "<div>\n",
       "<style scoped>\n",
       "    .dataframe tbody tr th:only-of-type {\n",
       "        vertical-align: middle;\n",
       "    }\n",
       "\n",
       "    .dataframe tbody tr th {\n",
       "        vertical-align: top;\n",
       "    }\n",
       "\n",
       "    .dataframe thead th {\n",
       "        text-align: right;\n",
       "    }\n",
       "</style>\n",
       "<table border=\"1\" class=\"dataframe\">\n",
       "  <thead>\n",
       "    <tr style=\"text-align: right;\">\n",
       "      <th></th>\n",
       "      <th>İzmir</th>\n",
       "    </tr>\n",
       "  </thead>\n",
       "  <tbody>\n",
       "    <tr>\n",
       "      <th>0</th>\n",
       "      <td>30</td>\n",
       "    </tr>\n",
       "    <tr>\n",
       "      <th>1</th>\n",
       "      <td>40</td>\n",
       "    </tr>\n",
       "    <tr>\n",
       "      <th>2</th>\n",
       "      <td>35</td>\n",
       "    </tr>\n",
       "  </tbody>\n",
       "</table>\n",
       "</div>"
      ],
      "text/plain": [
       "   İzmir\n",
       "0     30\n",
       "1     40\n",
       "2     35"
      ]
     },
     "execution_count": 78,
     "metadata": {},
     "output_type": "execute_result"
    }
   ],
   "source": [
    " havaDurumuDataFrame.dropna(axis = 1) # dediğim zaman içinde boş değer olmayan kolon döner"
   ]
  },
  {
   "cell_type": "code",
   "execution_count": 81,
   "id": "8c1d3a33-571b-4938-9151-9a3acb7a8611",
   "metadata": {},
   "outputs": [],
   "source": [
    "yeniDf = pd.DataFrame({\"İstanbul\": [30,29,np.nan],\"Ankara\": [26,np.nan,25],\"İzmir\": [30,40,35],\"Antalya\": [45,np.nan,np.nan]})\n",
    "yeniDf = pd.DataFrame(yeniDf)"
   ]
  },
  {
   "cell_type": "code",
   "execution_count": 82,
   "id": "8fd61150-e977-4ae0-b7bf-3bc27f3648b6",
   "metadata": {},
   "outputs": [
    {
     "data": {
      "text/html": [
       "<div>\n",
       "<style scoped>\n",
       "    .dataframe tbody tr th:only-of-type {\n",
       "        vertical-align: middle;\n",
       "    }\n",
       "\n",
       "    .dataframe tbody tr th {\n",
       "        vertical-align: top;\n",
       "    }\n",
       "\n",
       "    .dataframe thead th {\n",
       "        text-align: right;\n",
       "    }\n",
       "</style>\n",
       "<table border=\"1\" class=\"dataframe\">\n",
       "  <thead>\n",
       "    <tr style=\"text-align: right;\">\n",
       "      <th></th>\n",
       "      <th>İstanbul</th>\n",
       "      <th>Ankara</th>\n",
       "      <th>İzmir</th>\n",
       "      <th>Antalya</th>\n",
       "    </tr>\n",
       "  </thead>\n",
       "  <tbody>\n",
       "    <tr>\n",
       "      <th>0</th>\n",
       "      <td>30.0</td>\n",
       "      <td>26.0</td>\n",
       "      <td>30</td>\n",
       "      <td>45.0</td>\n",
       "    </tr>\n",
       "    <tr>\n",
       "      <th>1</th>\n",
       "      <td>29.0</td>\n",
       "      <td>NaN</td>\n",
       "      <td>40</td>\n",
       "      <td>NaN</td>\n",
       "    </tr>\n",
       "    <tr>\n",
       "      <th>2</th>\n",
       "      <td>NaN</td>\n",
       "      <td>25.0</td>\n",
       "      <td>35</td>\n",
       "      <td>NaN</td>\n",
       "    </tr>\n",
       "  </tbody>\n",
       "</table>\n",
       "</div>"
      ],
      "text/plain": [
       "   İstanbul  Ankara  İzmir  Antalya\n",
       "0      30.0    26.0     30     45.0\n",
       "1      29.0     NaN     40      NaN\n",
       "2       NaN    25.0     35      NaN"
      ]
     },
     "execution_count": 82,
     "metadata": {},
     "output_type": "execute_result"
    }
   ],
   "source": [
    "yeniDf"
   ]
  },
  {
   "cell_type": "code",
   "execution_count": 84,
   "id": "5060510a-bb30-4640-b365-d118b0cfa556",
   "metadata": {},
   "outputs": [
    {
     "data": {
      "text/html": [
       "<div>\n",
       "<style scoped>\n",
       "    .dataframe tbody tr th:only-of-type {\n",
       "        vertical-align: middle;\n",
       "    }\n",
       "\n",
       "    .dataframe tbody tr th {\n",
       "        vertical-align: top;\n",
       "    }\n",
       "\n",
       "    .dataframe thead th {\n",
       "        text-align: right;\n",
       "    }\n",
       "</style>\n",
       "<table border=\"1\" class=\"dataframe\">\n",
       "  <thead>\n",
       "    <tr style=\"text-align: right;\">\n",
       "      <th></th>\n",
       "      <th>İstanbul</th>\n",
       "      <th>Ankara</th>\n",
       "      <th>İzmir</th>\n",
       "    </tr>\n",
       "  </thead>\n",
       "  <tbody>\n",
       "    <tr>\n",
       "      <th>0</th>\n",
       "      <td>30.0</td>\n",
       "      <td>26.0</td>\n",
       "      <td>30</td>\n",
       "    </tr>\n",
       "    <tr>\n",
       "      <th>1</th>\n",
       "      <td>29.0</td>\n",
       "      <td>NaN</td>\n",
       "      <td>40</td>\n",
       "    </tr>\n",
       "    <tr>\n",
       "      <th>2</th>\n",
       "      <td>NaN</td>\n",
       "      <td>25.0</td>\n",
       "      <td>35</td>\n",
       "    </tr>\n",
       "  </tbody>\n",
       "</table>\n",
       "</div>"
      ],
      "text/plain": [
       "   İstanbul  Ankara  İzmir\n",
       "0      30.0    26.0     30\n",
       "1      29.0     NaN     40\n",
       "2       NaN    25.0     35"
      ]
     },
     "execution_count": 84,
     "metadata": {},
     "output_type": "execute_result"
    }
   ],
   "source": [
    "yeniDf.dropna(axis = 1 ,thresh=2) #thresh dediğim zaman 2 nan değer olanları atar sadece tek nan değer olanları döndürür"
   ]
  },
  {
   "cell_type": "code",
   "execution_count": 85,
   "id": "a1e44ef4-eb7c-4a0d-bd6a-1b6eb0a83152",
   "metadata": {},
   "outputs": [
    {
     "data": {
      "text/html": [
       "<div>\n",
       "<style scoped>\n",
       "    .dataframe tbody tr th:only-of-type {\n",
       "        vertical-align: middle;\n",
       "    }\n",
       "\n",
       "    .dataframe tbody tr th {\n",
       "        vertical-align: top;\n",
       "    }\n",
       "\n",
       "    .dataframe thead th {\n",
       "        text-align: right;\n",
       "    }\n",
       "</style>\n",
       "<table border=\"1\" class=\"dataframe\">\n",
       "  <thead>\n",
       "    <tr style=\"text-align: right;\">\n",
       "      <th></th>\n",
       "      <th>İstanbul</th>\n",
       "      <th>Ankara</th>\n",
       "      <th>İzmir</th>\n",
       "      <th>Antalya</th>\n",
       "    </tr>\n",
       "  </thead>\n",
       "  <tbody>\n",
       "    <tr>\n",
       "      <th>0</th>\n",
       "      <td>30.0</td>\n",
       "      <td>26.0</td>\n",
       "      <td>30</td>\n",
       "      <td>45.0</td>\n",
       "    </tr>\n",
       "    <tr>\n",
       "      <th>1</th>\n",
       "      <td>29.0</td>\n",
       "      <td>28.0</td>\n",
       "      <td>40</td>\n",
       "      <td>28.0</td>\n",
       "    </tr>\n",
       "    <tr>\n",
       "      <th>2</th>\n",
       "      <td>28.0</td>\n",
       "      <td>25.0</td>\n",
       "      <td>35</td>\n",
       "      <td>28.0</td>\n",
       "    </tr>\n",
       "  </tbody>\n",
       "</table>\n",
       "</div>"
      ],
      "text/plain": [
       "   İstanbul  Ankara  İzmir  Antalya\n",
       "0      30.0    26.0     30     45.0\n",
       "1      29.0    28.0     40     28.0\n",
       "2      28.0    25.0     35     28.0"
      ]
     },
     "execution_count": 85,
     "metadata": {},
     "output_type": "execute_result"
    }
   ],
   "source": [
    "yeniDf.fillna(28)"
   ]
  },
  {
   "cell_type": "code",
   "execution_count": 86,
   "id": "187a9edf-683b-474e-af75-9c0bb1a8fff5",
   "metadata": {},
   "outputs": [],
   "source": [
    "#Bu kod bloğu ile nan değer olan veriler için elimle bir değer girmiş olurum."
   ]
  },
  {
   "cell_type": "markdown",
   "id": "26ac3eef-0c16-4348-8d9e-4d368e641ae1",
   "metadata": {},
   "source": [
    "## Groupby"
   ]
  },
  {
   "cell_type": "code",
   "execution_count": 6,
   "id": "413a13e5-775b-4150-8183-5d2373225603",
   "metadata": {},
   "outputs": [],
   "source": [
    "import numpy as np\n",
    "import pandas as pd"
   ]
  },
  {
   "cell_type": "code",
   "execution_count": 18,
   "id": "33533ce6-9bc6-4c73-9178-aa60ed8e3708",
   "metadata": {},
   "outputs": [],
   "source": [
    "maasSozluk = {\"Departmanlar\": [\"Veri Bilimi\",\"Veri Bilimi\",\"Pazarlama\",\"Pazarlama\",\"Yazılım\",\"Yazılım\"],\n",
    "             \"Çalışan İsmi\": [\"Ahmet\",\"Saadet\",\"Zeynep\",\"Fatih\",\"Eren\",\"Yaşar\"],\n",
    "              \"Maas\":[100000,2000000,250000,300000,400000,450000]}"
   ]
  },
  {
   "cell_type": "code",
   "execution_count": 19,
   "id": "1fcbbf89-a1d1-4935-9491-5f870acad3c4",
   "metadata": {},
   "outputs": [
    {
     "data": {
      "text/html": [
       "<div>\n",
       "<style scoped>\n",
       "    .dataframe tbody tr th:only-of-type {\n",
       "        vertical-align: middle;\n",
       "    }\n",
       "\n",
       "    .dataframe tbody tr th {\n",
       "        vertical-align: top;\n",
       "    }\n",
       "\n",
       "    .dataframe thead th {\n",
       "        text-align: right;\n",
       "    }\n",
       "</style>\n",
       "<table border=\"1\" class=\"dataframe\">\n",
       "  <thead>\n",
       "    <tr style=\"text-align: right;\">\n",
       "      <th></th>\n",
       "      <th>Departmanlar</th>\n",
       "      <th>Çalışan İsmi</th>\n",
       "      <th>Maas</th>\n",
       "    </tr>\n",
       "  </thead>\n",
       "  <tbody>\n",
       "    <tr>\n",
       "      <th>0</th>\n",
       "      <td>Veri Bilimi</td>\n",
       "      <td>Ahmet</td>\n",
       "      <td>100000</td>\n",
       "    </tr>\n",
       "    <tr>\n",
       "      <th>1</th>\n",
       "      <td>Veri Bilimi</td>\n",
       "      <td>Saadet</td>\n",
       "      <td>2000000</td>\n",
       "    </tr>\n",
       "    <tr>\n",
       "      <th>2</th>\n",
       "      <td>Pazarlama</td>\n",
       "      <td>Zeynep</td>\n",
       "      <td>250000</td>\n",
       "    </tr>\n",
       "    <tr>\n",
       "      <th>3</th>\n",
       "      <td>Pazarlama</td>\n",
       "      <td>Fatih</td>\n",
       "      <td>300000</td>\n",
       "    </tr>\n",
       "    <tr>\n",
       "      <th>4</th>\n",
       "      <td>Yazılım</td>\n",
       "      <td>Eren</td>\n",
       "      <td>400000</td>\n",
       "    </tr>\n",
       "    <tr>\n",
       "      <th>5</th>\n",
       "      <td>Yazılım</td>\n",
       "      <td>Yaşar</td>\n",
       "      <td>450000</td>\n",
       "    </tr>\n",
       "  </tbody>\n",
       "</table>\n",
       "</div>"
      ],
      "text/plain": [
       "  Departmanlar Çalışan İsmi     Maas\n",
       "0  Veri Bilimi        Ahmet   100000\n",
       "1  Veri Bilimi       Saadet  2000000\n",
       "2    Pazarlama       Zeynep   250000\n",
       "3    Pazarlama        Fatih   300000\n",
       "4      Yazılım         Eren   400000\n",
       "5      Yazılım        Yaşar   450000"
      ]
     },
     "execution_count": 19,
     "metadata": {},
     "output_type": "execute_result"
    }
   ],
   "source": [
    "maasDataFrame = pd.DataFrame(maasSozluk)\n",
    "maasDataFrame"
   ]
  },
  {
   "cell_type": "code",
   "execution_count": 23,
   "id": "9f398191-5ec1-4396-9510-dde405cccecb",
   "metadata": {},
   "outputs": [
    {
     "data": {
      "text/html": [
       "<div>\n",
       "<style scoped>\n",
       "    .dataframe tbody tr th:only-of-type {\n",
       "        vertical-align: middle;\n",
       "    }\n",
       "\n",
       "    .dataframe tbody tr th {\n",
       "        vertical-align: top;\n",
       "    }\n",
       "\n",
       "    .dataframe thead th {\n",
       "        text-align: right;\n",
       "    }\n",
       "</style>\n",
       "<table border=\"1\" class=\"dataframe\">\n",
       "  <thead>\n",
       "    <tr style=\"text-align: right;\">\n",
       "      <th></th>\n",
       "      <th>Çalışan İsmi</th>\n",
       "      <th>Maas</th>\n",
       "    </tr>\n",
       "    <tr>\n",
       "      <th>Departmanlar</th>\n",
       "      <th></th>\n",
       "      <th></th>\n",
       "    </tr>\n",
       "  </thead>\n",
       "  <tbody>\n",
       "    <tr>\n",
       "      <th>Pazarlama</th>\n",
       "      <td>2</td>\n",
       "      <td>2</td>\n",
       "    </tr>\n",
       "    <tr>\n",
       "      <th>Veri Bilimi</th>\n",
       "      <td>2</td>\n",
       "      <td>2</td>\n",
       "    </tr>\n",
       "    <tr>\n",
       "      <th>Yazılım</th>\n",
       "      <td>2</td>\n",
       "      <td>2</td>\n",
       "    </tr>\n",
       "  </tbody>\n",
       "</table>\n",
       "</div>"
      ],
      "text/plain": [
       "              Çalışan İsmi  Maas\n",
       "Departmanlar                    \n",
       "Pazarlama                2     2\n",
       "Veri Bilimi              2     2\n",
       "Yazılım                  2     2"
      ]
     },
     "execution_count": 23,
     "metadata": {},
     "output_type": "execute_result"
    }
   ],
   "source": [
    "gruplanmısTablo = maasDataFrame.groupby(\"Departmanlar\")\n",
    "gruplanmısTablo.count()"
   ]
  },
  {
   "cell_type": "code",
   "execution_count": 33,
   "id": "224f488c-37b5-49ed-9c46-523e32183801",
   "metadata": {},
   "outputs": [
    {
     "data": {
      "text/html": [
       "<div>\n",
       "<style scoped>\n",
       "    .dataframe tbody tr th:only-of-type {\n",
       "        vertical-align: middle;\n",
       "    }\n",
       "\n",
       "    .dataframe tbody tr th {\n",
       "        vertical-align: top;\n",
       "    }\n",
       "\n",
       "    .dataframe thead th {\n",
       "        text-align: right;\n",
       "    }\n",
       "</style>\n",
       "<table border=\"1\" class=\"dataframe\">\n",
       "  <thead>\n",
       "    <tr style=\"text-align: right;\">\n",
       "      <th></th>\n",
       "      <th>Maas</th>\n",
       "    </tr>\n",
       "    <tr>\n",
       "      <th>Departmanlar</th>\n",
       "      <th></th>\n",
       "    </tr>\n",
       "  </thead>\n",
       "  <tbody>\n",
       "    <tr>\n",
       "      <th>Pazarlama</th>\n",
       "      <td>275000.0</td>\n",
       "    </tr>\n",
       "    <tr>\n",
       "      <th>Veri Bilimi</th>\n",
       "      <td>1050000.0</td>\n",
       "    </tr>\n",
       "    <tr>\n",
       "      <th>Yazılım</th>\n",
       "      <td>425000.0</td>\n",
       "    </tr>\n",
       "  </tbody>\n",
       "</table>\n",
       "</div>"
      ],
      "text/plain": [
       "                   Maas\n",
       "Departmanlar           \n",
       "Pazarlama      275000.0\n",
       "Veri Bilimi   1050000.0\n",
       "Yazılım        425000.0"
      ]
     },
     "execution_count": 33,
     "metadata": {},
     "output_type": "execute_result"
    }
   ],
   "source": [
    "gruplanmısTablo.mean(\"Maas\")"
   ]
  },
  {
   "cell_type": "code",
   "execution_count": 34,
   "id": "a678adad-0fe9-47c5-84d8-8d45d9f50f62",
   "metadata": {},
   "outputs": [
    {
     "data": {
      "text/html": [
       "<div>\n",
       "<style scoped>\n",
       "    .dataframe tbody tr th:only-of-type {\n",
       "        vertical-align: middle;\n",
       "    }\n",
       "\n",
       "    .dataframe tbody tr th {\n",
       "        vertical-align: top;\n",
       "    }\n",
       "\n",
       "    .dataframe thead th {\n",
       "        text-align: right;\n",
       "    }\n",
       "</style>\n",
       "<table border=\"1\" class=\"dataframe\">\n",
       "  <thead>\n",
       "    <tr style=\"text-align: right;\">\n",
       "      <th></th>\n",
       "      <th>Çalışan İsmi</th>\n",
       "      <th>Maas</th>\n",
       "    </tr>\n",
       "    <tr>\n",
       "      <th>Departmanlar</th>\n",
       "      <th></th>\n",
       "      <th></th>\n",
       "    </tr>\n",
       "  </thead>\n",
       "  <tbody>\n",
       "    <tr>\n",
       "      <th>Pazarlama</th>\n",
       "      <td>Fatih</td>\n",
       "      <td>250000</td>\n",
       "    </tr>\n",
       "    <tr>\n",
       "      <th>Veri Bilimi</th>\n",
       "      <td>Ahmet</td>\n",
       "      <td>100000</td>\n",
       "    </tr>\n",
       "    <tr>\n",
       "      <th>Yazılım</th>\n",
       "      <td>Eren</td>\n",
       "      <td>400000</td>\n",
       "    </tr>\n",
       "  </tbody>\n",
       "</table>\n",
       "</div>"
      ],
      "text/plain": [
       "             Çalışan İsmi    Maas\n",
       "Departmanlar                     \n",
       "Pazarlama           Fatih  250000\n",
       "Veri Bilimi         Ahmet  100000\n",
       "Yazılım              Eren  400000"
      ]
     },
     "execution_count": 34,
     "metadata": {},
     "output_type": "execute_result"
    }
   ],
   "source": [
    "gruplanmısTablo.min()"
   ]
  },
  {
   "cell_type": "code",
   "execution_count": 35,
   "id": "7d12b24c-d7a0-4b4a-97ff-bc2c5d345b71",
   "metadata": {},
   "outputs": [
    {
     "data": {
      "text/html": [
       "<div>\n",
       "<style scoped>\n",
       "    .dataframe tbody tr th:only-of-type {\n",
       "        vertical-align: middle;\n",
       "    }\n",
       "\n",
       "    .dataframe tbody tr th {\n",
       "        vertical-align: top;\n",
       "    }\n",
       "\n",
       "    .dataframe thead th {\n",
       "        text-align: right;\n",
       "    }\n",
       "</style>\n",
       "<table border=\"1\" class=\"dataframe\">\n",
       "  <thead>\n",
       "    <tr style=\"text-align: right;\">\n",
       "      <th></th>\n",
       "      <th>Çalışan İsmi</th>\n",
       "      <th>Maas</th>\n",
       "    </tr>\n",
       "    <tr>\n",
       "      <th>Departmanlar</th>\n",
       "      <th></th>\n",
       "      <th></th>\n",
       "    </tr>\n",
       "  </thead>\n",
       "  <tbody>\n",
       "    <tr>\n",
       "      <th>Pazarlama</th>\n",
       "      <td>Zeynep</td>\n",
       "      <td>300000</td>\n",
       "    </tr>\n",
       "    <tr>\n",
       "      <th>Veri Bilimi</th>\n",
       "      <td>Saadet</td>\n",
       "      <td>2000000</td>\n",
       "    </tr>\n",
       "    <tr>\n",
       "      <th>Yazılım</th>\n",
       "      <td>Yaşar</td>\n",
       "      <td>450000</td>\n",
       "    </tr>\n",
       "  </tbody>\n",
       "</table>\n",
       "</div>"
      ],
      "text/plain": [
       "             Çalışan İsmi     Maas\n",
       "Departmanlar                      \n",
       "Pazarlama          Zeynep   300000\n",
       "Veri Bilimi        Saadet  2000000\n",
       "Yazılım             Yaşar   450000"
      ]
     },
     "execution_count": 35,
     "metadata": {},
     "output_type": "execute_result"
    }
   ],
   "source": [
    "gruplanmısTablo.max()"
   ]
  },
  {
   "cell_type": "code",
   "execution_count": 36,
   "id": "ff42648c-efea-4f00-8609-b2ec3621f9aa",
   "metadata": {},
   "outputs": [
    {
     "data": {
      "text/html": [
       "<div>\n",
       "<style scoped>\n",
       "    .dataframe tbody tr th:only-of-type {\n",
       "        vertical-align: middle;\n",
       "    }\n",
       "\n",
       "    .dataframe tbody tr th {\n",
       "        vertical-align: top;\n",
       "    }\n",
       "\n",
       "    .dataframe thead tr th {\n",
       "        text-align: left;\n",
       "    }\n",
       "\n",
       "    .dataframe thead tr:last-of-type th {\n",
       "        text-align: right;\n",
       "    }\n",
       "</style>\n",
       "<table border=\"1\" class=\"dataframe\">\n",
       "  <thead>\n",
       "    <tr>\n",
       "      <th></th>\n",
       "      <th colspan=\"8\" halign=\"left\">Maas</th>\n",
       "    </tr>\n",
       "    <tr>\n",
       "      <th></th>\n",
       "      <th>count</th>\n",
       "      <th>mean</th>\n",
       "      <th>std</th>\n",
       "      <th>min</th>\n",
       "      <th>25%</th>\n",
       "      <th>50%</th>\n",
       "      <th>75%</th>\n",
       "      <th>max</th>\n",
       "    </tr>\n",
       "    <tr>\n",
       "      <th>Departmanlar</th>\n",
       "      <th></th>\n",
       "      <th></th>\n",
       "      <th></th>\n",
       "      <th></th>\n",
       "      <th></th>\n",
       "      <th></th>\n",
       "      <th></th>\n",
       "      <th></th>\n",
       "    </tr>\n",
       "  </thead>\n",
       "  <tbody>\n",
       "    <tr>\n",
       "      <th>Pazarlama</th>\n",
       "      <td>2.0</td>\n",
       "      <td>275000.0</td>\n",
       "      <td>3.535534e+04</td>\n",
       "      <td>250000.0</td>\n",
       "      <td>262500.0</td>\n",
       "      <td>275000.0</td>\n",
       "      <td>287500.0</td>\n",
       "      <td>300000.0</td>\n",
       "    </tr>\n",
       "    <tr>\n",
       "      <th>Veri Bilimi</th>\n",
       "      <td>2.0</td>\n",
       "      <td>1050000.0</td>\n",
       "      <td>1.343503e+06</td>\n",
       "      <td>100000.0</td>\n",
       "      <td>575000.0</td>\n",
       "      <td>1050000.0</td>\n",
       "      <td>1525000.0</td>\n",
       "      <td>2000000.0</td>\n",
       "    </tr>\n",
       "    <tr>\n",
       "      <th>Yazılım</th>\n",
       "      <td>2.0</td>\n",
       "      <td>425000.0</td>\n",
       "      <td>3.535534e+04</td>\n",
       "      <td>400000.0</td>\n",
       "      <td>412500.0</td>\n",
       "      <td>425000.0</td>\n",
       "      <td>437500.0</td>\n",
       "      <td>450000.0</td>\n",
       "    </tr>\n",
       "  </tbody>\n",
       "</table>\n",
       "</div>"
      ],
      "text/plain": [
       "              Maas                                                          \\\n",
       "             count       mean           std       min       25%        50%   \n",
       "Departmanlar                                                                 \n",
       "Pazarlama      2.0   275000.0  3.535534e+04  250000.0  262500.0   275000.0   \n",
       "Veri Bilimi    2.0  1050000.0  1.343503e+06  100000.0  575000.0  1050000.0   \n",
       "Yazılım        2.0   425000.0  3.535534e+04  400000.0  412500.0   425000.0   \n",
       "\n",
       "                                    \n",
       "                    75%        max  \n",
       "Departmanlar                        \n",
       "Pazarlama      287500.0   300000.0  \n",
       "Veri Bilimi   1525000.0  2000000.0  \n",
       "Yazılım        437500.0   450000.0  "
      ]
     },
     "execution_count": 36,
     "metadata": {},
     "output_type": "execute_result"
    }
   ],
   "source": [
    "gruplanmısTablo.describe()"
   ]
  },
  {
   "cell_type": "code",
   "execution_count": null,
   "id": "63eafdf8-d5c1-4c8a-bbcb-0b4efbedc1e1",
   "metadata": {},
   "outputs": [],
   "source": []
  }
 ],
 "metadata": {
  "kernelspec": {
   "display_name": "Python 3 (ipykernel)",
   "language": "python",
   "name": "python3"
  },
  "language_info": {
   "codemirror_mode": {
    "name": "ipython",
    "version": 3
   },
   "file_extension": ".py",
   "mimetype": "text/x-python",
   "name": "python",
   "nbconvert_exporter": "python",
   "pygments_lexer": "ipython3",
   "version": "3.12.3"
  }
 },
 "nbformat": 4,
 "nbformat_minor": 5
}
